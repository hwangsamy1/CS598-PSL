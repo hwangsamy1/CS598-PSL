{
 "cells": [
  {
   "cell_type": "code",
   "execution_count": 13,
   "id": "b082e5bb-a77f-494f-b127-2b1ae453bcfc",
   "metadata": {},
   "outputs": [],
   "source": [
    "import pandas as pd\n",
    "from datetime import datetime, timedelta\n",
    "import numpy as np\n",
    "import statsmodels.api as sm\n",
    "import patsy\n",
    "import warnings\n",
    "# Suppress all warnings\n",
    "warnings.filterwarnings(\"ignore\")"
   ]
  },
  {
   "cell_type": "code",
   "execution_count": 151,
   "id": "92ecee48-08a8-44fa-a1ec-04c130761601",
   "metadata": {},
   "outputs": [],
   "source": [
    "def preprocess(data):\n",
    "    tmp = pd.to_datetime(data['Date'])\n",
    "    data['Wk'] = tmp.dt.isocalendar().week\n",
    "    data['Yr'] = tmp.dt.year\n",
    "    data['Wk'] = pd.Categorical(data['Wk'], categories=[i for i in range(1, 53)])  # 52 weeks \n",
    "    return data"
   ]
  },
  {
   "cell_type": "code",
   "execution_count": 152,
   "id": "fbe8363d-0999-412a-b849-243de4574c1e",
   "metadata": {},
   "outputs": [],
   "source": [
    "def svd(train_data):  \n",
    "    return train_data"
   ]
  },
  {
   "cell_type": "code",
   "execution_count": 155,
   "id": "8cc9125a-7768-4612-a1a9-f1899b772d00",
   "metadata": {},
   "outputs": [],
   "source": [
    "def process(train_file_path, test_file_path, pred_file_path):\n",
    "    print(train_file_path)\n",
    "    train = pd.read_csv(train_file_path)\n",
    "    test = pd.read_csv(test_file_path)\n",
    "\n",
    "    train_svd = svd(train)\n",
    "    test_pred = pd.DataFrame()\n",
    "\n",
    "    train_pairs = train_svd[['Store', 'Dept']].drop_duplicates(ignore_index=True)\n",
    "    test_pairs = test[['Store', 'Dept']].drop_duplicates(ignore_index=True)\n",
    "    unique_pairs = pd.merge(train_pairs, test_pairs, how = 'inner', on =['Store', 'Dept'])\n",
    "    \n",
    "    train_split = unique_pairs.merge(train_svd, on=['Store', 'Dept'], how='left')\n",
    "    train_split = preprocess(train_split)\n",
    "    X = patsy.dmatrix('Weekly_Sales + Store + Dept + Yr  + Wk',\n",
    "                      data = train_split,\n",
    "                      return_type='dataframe')\n",
    "    train_split = dict(tuple(X.groupby(['Store', 'Dept'])))\n",
    "    \n",
    "\n",
    "    test_split = unique_pairs.merge(test, on=['Store', 'Dept'], how='left')\n",
    "    test_split = preprocess(test_split)\n",
    "    X = patsy.dmatrix('Store + Dept + Yr  + Wk', \n",
    "                        data = test_split, \n",
    "                        return_type='dataframe')\n",
    "    X['Date'] = test_split['Date']\n",
    "    test_split = dict(tuple(X.groupby(['Store', 'Dept'])))\n",
    "    \n",
    "    keys = list(train_split)\n",
    "    \n",
    "    for key in keys:\n",
    "        X_train = train_split[key]\n",
    "        X_test = test_split[key]\n",
    "     \n",
    "        Y = X_train['Weekly_Sales']\n",
    "        X_train = X_train.drop(['Weekly_Sales','Store', 'Dept'], axis=1)\n",
    "        \n",
    "        cols_to_drop = X_train.columns[(X_train == 0).all()]\n",
    "        X_train = X_train.drop(columns=cols_to_drop)\n",
    "        X_test = X_test.drop(columns=cols_to_drop)\n",
    "     \n",
    "        cols_to_drop = []\n",
    "        for i in range(len(X_train.columns) - 1, 1, -1):  # Start from the last column and move backward\n",
    "            col_name = X_train.columns[i]\n",
    "            # Extract the current column and all previous columns\n",
    "            tmp_Y = X_train.iloc[:, i].values\n",
    "            tmp_X = X_train.iloc[:, :i].values\n",
    "    \n",
    "            coefficients, residuals, rank, s = np.linalg.lstsq(tmp_X, tmp_Y, rcond=None)\n",
    "            if np.sum(residuals) < 1e-16:\n",
    "                    cols_to_drop.append(col_name)\n",
    "                \n",
    "        X_train = X_train.drop(columns=cols_to_drop)\n",
    "        X_test = X_test.drop(columns=cols_to_drop)\n",
    "    \n",
    "        model = sm.OLS(Y, X_train).fit()\n",
    "        mycoef = model.params.fillna(0)\n",
    "        \n",
    "        tmp_pred = X_test[['Store', 'Dept', 'Date']]\n",
    "        X_test = X_test.drop(['Store', 'Dept', 'Date'], axis=1)\n",
    "        \n",
    "        tmp_pred['Weekly_Pred'] = np.dot(X_test, mycoef)\n",
    "        test_pred = pd.concat([test_pred, tmp_pred], ignore_index=True)\n",
    "    \n",
    "    result = test.merge(test_pred, on=[\"Store\", \"Dept\", \"Date\"], how=\"left\")\n",
    "    result[\"Weekly_Pred\"] = result[\"Weekly_Pred\"].fillna(0)\n",
    "\n",
    "    # Ensure we have all these colummns\n",
    "    result = result[[\"Store\", \"Dept\", \"Date\", \"IsHoliday\", \"Weekly_Pred\"]]\n",
    "\n",
    "    result.to_csv(pred_file_path, index=False)\n"
   ]
  },
  {
   "cell_type": "code",
   "execution_count": 156,
   "id": "fe14055c-da59-4c13-93b0-b1c297dc2ec8",
   "metadata": {},
   "outputs": [
    {
     "name": "stdout",
     "output_type": "stream",
     "text": [
      "./Proj2_Data/fold_1/train.csv\n",
      "./Proj2_Data/fold_2/train.csv\n",
      "./Proj2_Data/fold_3/train.csv\n",
      "./Proj2_Data/fold_4/train.csv\n",
      "./Proj2_Data/fold_5/train.csv\n",
      "./Proj2_Data/fold_6/train.csv\n",
      "./Proj2_Data/fold_7/train.csv\n",
      "./Proj2_Data/fold_8/train.csv\n",
      "./Proj2_Data/fold_9/train.csv\n",
      "./Proj2_Data/fold_10/train.csv\n"
     ]
    }
   ],
   "source": [
    "num_folds = 10\n",
    "\n",
    "for i in range(num_folds):\n",
    "    train_file_path = f'./Proj2_Data/fold_{i+1}/train.csv'\n",
    "    test_file_path = f'./Proj2_Data/fold_{i+1}/test.csv'\n",
    "    pred_file_path = f'./Proj2_Data/fold_{i+1}/mypred.csv'\n",
    "\n",
    "    process(train_file_path, test_file_path, pred_file_path) "
   ]
  },
  {
   "cell_type": "code",
   "execution_count": 158,
   "id": "ae1a7b86-cbaf-4ec3-a141-e2d09483536e",
   "metadata": {},
   "outputs": [],
   "source": [
    "def myeval():\n",
    "    test_with_label = pd.read_csv('./Proj2_Data/test_with_label.csv')\n",
    "    wae = []\n",
    "\n",
    "    for i in range(num_folds):\n",
    "        file_path = f'./Proj2_Data/fold_{i+1}/test.csv'\n",
    "        test = pd.read_csv(file_path)\n",
    "        test = test.drop(columns=['IsHoliday']).merge(test_with_label, on=['Date', 'Store', 'Dept'])\n",
    "\n",
    "        file_path = f'./Proj2_Data/fold_{i+1}/mypred.csv'\n",
    "        test_pred = pd.read_csv(file_path)\n",
    "        test_pred = test_pred.drop(columns=['IsHoliday'])\n",
    "\n",
    "        new_test = test.merge(test_pred, on=['Date', 'Store', 'Dept'], how='left')\n",
    "\n",
    "        actuals = new_test['Weekly_Sales']\n",
    "        preds = new_test['Weekly_Pred']\n",
    "        weights = new_test['IsHoliday'].apply(lambda x: 5 if x else 1)\n",
    "        wae.append(sum(weights * abs(actuals - preds)) / sum(weights))\n",
    "\n",
    "    return wae"
   ]
  },
  {
   "cell_type": "code",
   "execution_count": 159,
   "id": "18c32967-c679-4ec0-89ba-9a7774820e50",
   "metadata": {},
   "outputs": [
    {
     "name": "stdout",
     "output_type": "stream",
     "text": [
      "\t2044.795\n",
      "\t1466.468\n",
      "\t1445.260\n",
      "\t1594.190\n",
      "\t2324.849\n",
      "\t1674.291\n",
      "\t1719.834\n",
      "\t1427.021\n",
      "\t1443.198\n",
      "\t1444.152\n",
      "1658.406\n"
     ]
    }
   ],
   "source": [
    "wae = myeval()\n",
    "for value in wae:\n",
    "    print(f\"\\t{value:.3f}\")\n",
    "print(f\"{sum(wae) / len(wae):.3f}\")"
   ]
  },
  {
   "cell_type": "code",
   "execution_count": null,
   "id": "084287a3-7387-46d5-8d0c-75449e5e4a15",
   "metadata": {},
   "outputs": [],
   "source": []
  },
  {
   "cell_type": "code",
   "execution_count": null,
   "id": "21c82e5f-aba7-4837-8589-a68216e6df1a",
   "metadata": {},
   "outputs": [],
   "source": []
  }
 ],
 "metadata": {
  "kernelspec": {
   "display_name": "Python 3 (ipykernel)",
   "language": "python",
   "name": "python3"
  },
  "language_info": {
   "codemirror_mode": {
    "name": "ipython",
    "version": 3
   },
   "file_extension": ".py",
   "mimetype": "text/x-python",
   "name": "python",
   "nbconvert_exporter": "python",
   "pygments_lexer": "ipython3",
   "version": "3.12.7"
  }
 },
 "nbformat": 4,
 "nbformat_minor": 5
}
