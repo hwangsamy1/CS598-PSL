{
 "cells": [
  {
   "cell_type": "code",
   "execution_count": 9,
   "id": "a72f672e-6b42-4e5e-9d99-314f14d58255",
   "metadata": {},
   "outputs": [],
   "source": [
    "import numpy as np"
   ]
  },
  {
   "cell_type": "code",
   "execution_count": null,
   "id": "5f07c1dd-7918-4a4b-9602-cbe942a2777f",
   "metadata": {},
   "outputs": [],
   "source": [
    "def myEM(data, G, itmax,):\n",
    "    "
   ]
  },
  {
   "cell_type": "code",
   "execution_count": 59,
   "id": "80a908b7-321a-458d-b0b3-70e65cd1146a",
   "metadata": {},
   "outputs": [],
   "source": [
    "data = []\n",
    "\n",
    "with open('faithful.dat') as faithful:\n",
    "    for row in faithful:\n",
    "        data.append(row.split()[1:])\n",
    "        \n",
    "    # convert to float values\n",
    "    data = np.array([[float(value) for value in row] for row in data[1:]])\n"
   ]
  },
  {
   "cell_type": "code",
   "execution_count": 79,
   "id": "ded403d9-e28d-4015-844c-5c73980d09b0",
   "metadata": {},
   "outputs": [
    {
     "name": "stdout",
     "output_type": "stream",
     "text": [
      "[[1.38930519e-02 9.02925674e-01]\n",
      " [9.02925674e-01 6.56887741e+01]]\n"
     ]
    }
   ],
   "source": [
    "# Test G=2\n",
    "\n",
    "G = 2\n",
    "itmax = 20\n",
    "x = data\n",
    "n = len(x)\n",
    "p1 = 10 / n\n",
    "p2 = 1 - p1\n",
    "cluster_1 = x[:10]\n",
    "cluster_2 = x[10:]\n",
    "mu1 = np.mean(cluster_1, axis=0)\n",
    "mu2 = np.mean(cluster_2, axis=0)\n",
    "\n",
    "cov_matrix_1 = np.sum([(x[0] - mu1).reshape(-1, 1) @ (x[0] - mu1).reshape(-1, 1).T for i in cluster_1], axis=0)\n",
    "cov_matrix_2 = np.sum([(x[0] - mu2).reshape(-1, 1) @ (x[0] - mu2).reshape(-1, 1).T for i in cluster_2], axis=0)\n",
    "\n",
    "# 2x2 matrix\n",
    "cov_matrix = (cov_matrix_1 + cov_matrix_2) / n\n",
    "print(cov_matrix)\n"
   ]
  },
  {
   "cell_type": "code",
   "execution_count": null,
   "id": "a7787e8e-ceff-4511-b952-f4e1b0db1114",
   "metadata": {},
   "outputs": [],
   "source": [
    "prob, mean, Sigma, loglik_val = myEM()\n",
    "\n",
    "print(\"prob\")\n",
    "print(prob)\n",
    "\n",
    "print(\"mean\")\n",
    "print(mean)\n",
    "\n",
    "print(\"Sigma\")\n",
    "print(Sigma)\n",
    "\n",
    "print(\"loglik_val\")\n",
    "print(loglik_val)"
   ]
  },
  {
   "cell_type": "code",
   "execution_count": 83,
   "id": "e30de900-8362-41ff-8f64-c5af8f44ae2b",
   "metadata": {},
   "outputs": [
    {
     "name": "stdout",
     "output_type": "stream",
     "text": [
      "[[2.20359809e-02 9.69443185e-01]\n",
      " [9.69443185e-01 6.62321387e+01]]\n"
     ]
    }
   ],
   "source": [
    "# Test G=3\n",
    "\n",
    "G = 3\n",
    "itmax = 20\n",
    "x = data\n",
    "n = len(x)\n",
    "p1 = 10 / n\n",
    "p2 = 20 / n\n",
    "p3 = 1 - p1 - p2\n",
    "cluster_1 = x[:10]\n",
    "cluster_2 = x[10:30]\n",
    "cluster_3 = x[30:]\n",
    "mu1 = np.mean(cluster_1, axis=0)\n",
    "mu2 = np.mean(cluster_2, axis=0)\n",
    "mu3 = np.mean(cluster_3, axis=0)\n",
    "\n",
    "cov_matrix_1 = np.sum([(x[0] - mu1).reshape(-1, 1) @ (x[0] - mu1).reshape(-1, 1).T for i in cluster_1], axis=0)\n",
    "cov_matrix_2 = np.sum([(x[0] - mu2).reshape(-1, 1) @ (x[0] - mu2).reshape(-1, 1).T for i in cluster_2], axis=0)\n",
    "cov_matrix_3 = np.sum([(x[0] - mu3).reshape(-1, 1) @ (x[0] - mu3).reshape(-1, 1).T for i in cluster_3], axis=0)\n",
    "\n",
    "# 2x2 matrix\n",
    "cov_matrix = (cov_matrix_1 + cov_matrix_2 + cov_matrix_3) / n\n",
    "print(cov_matrix)"
   ]
  },
  {
   "cell_type": "code",
   "execution_count": null,
   "id": "b90a8ce8-3b0f-4990-b088-f5018470aea9",
   "metadata": {},
   "outputs": [],
   "source": [
    "prob, mean, Sigma, loglik_val = myEM()\n",
    "\n",
    "print(\"prob\")\n",
    "print(prob)\n",
    "\n",
    "print(\"mean\")\n",
    "print(mean)\n",
    "\n",
    "print(\"Sigma\")\n",
    "print(Sigma)\n",
    "\n",
    "print(\"loglik_val\")\n",
    "print(loglik_val)"
   ]
  }
 ],
 "metadata": {
  "kernelspec": {
   "display_name": "Python 3 (ipykernel)",
   "language": "python",
   "name": "python3"
  },
  "language_info": {
   "codemirror_mode": {
    "name": "ipython",
    "version": 3
   },
   "file_extension": ".py",
   "mimetype": "text/x-python",
   "name": "python",
   "nbconvert_exporter": "python",
   "pygments_lexer": "ipython3",
   "version": "3.12.7"
  }
 },
 "nbformat": 4,
 "nbformat_minor": 5
}
