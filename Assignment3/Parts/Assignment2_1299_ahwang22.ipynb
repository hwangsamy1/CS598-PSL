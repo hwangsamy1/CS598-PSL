{
 "cells": [
  {
   "cell_type": "code",
   "execution_count": 1,
   "id": "0d6f337e-ecd9-4f33-8fb1-1b06036ff588",
   "metadata": {},
   "outputs": [],
   "source": [
    "import pandas as pd\n",
    "import numpy as np\n",
    "import matplotlib.pyplot as plt\n",
    "import seaborn as sns\n",
    "import warnings\n",
    "# Suppress all warnings\n",
    "warnings.filterwarnings(\"ignore\")\n",
    "\n",
    "from sklearn.metrics import mean_squared_error\n",
    "from sklearn.model_selection import train_test_split\n",
    "#from sklearn.linear_model import LinearRegression as lm\n",
    "#from sklearn.linear_model import Ridge, RidgeCV, Lasso, LassoCV\n",
    "\n",
    "from sklearn.decomposition import PCA\n",
    "from sklearn.preprocessing import StandardScaler\n",
    "from sklearn.pipeline import Pipeline"
   ]
  },
  {
   "cell_type": "markdown",
   "id": "a90c0861-d14d-4a66-9b0d-c7c0f0c90151",
   "metadata": {},
   "source": [
    "## Part 2: Ridgeless and double descent"
   ]
  },
  {
   "cell_type": "markdown",
   "id": "52acede9-28ea-4ded-814f-c3329fc8c366",
   "metadata": {},
   "source": [
    "### Task 1: Ridgeless Function"
   ]
  },
  {
   "cell_type": "code",
   "execution_count": 2,
   "id": "8c17c211-0ee5-48bb-ab57-8aaef0b81514",
   "metadata": {},
   "outputs": [],
   "source": [
    "def ridgeless(X_train, Y_train, X_test, Y_test):\n",
    "    # Get the mean and standard deviation of each feature.\n",
    "    X_train_mean = np.mean(X_train, axis=0)\n",
    "\n",
    "    #Center Xtest\n",
    "    X_train_center = X_train - X_train_mean\n",
    "    X_test_center = X_test - X_train_mean\n",
    "    \n",
    "    #Get the intercept\n",
    "    b0 = np.mean(Y_train, axis=0)\n",
    "\n",
    "    # Perform SVD on Xtrain to get Xtrain = UDV^T\n",
    "    U, S, Vh = np.linalg.svd(X_train_center)\n",
    "    Vh = Vh.T\n",
    "    \n",
    "    # Identify the number of singular values greater than eps, denoted as k\n",
    "    eps = 1e-10\n",
    "    k = sum(S > eps)\n",
    "    \n",
    "    # Truncate V by selecting the first k columns, resulting in V_trunc. \n",
    "    V_trunc = Vh[:, 0:k]\n",
    "    \n",
    "    # Update the feature matrix as F = X_train*V_trunc.\n",
    "    F = np.matmul(X_train_center, V_trunc)\n",
    "\n",
    "    # Compute the LS coefficients associated with the design matrix F, denoted as alphahat = (F^T.F)^-1 x F^T x y_train.\n",
    "    # This can be computed without matrix inversion as the matrix (F^T x F) is diagonal.\n",
    "    Finv_train = np.diag(np.diag(F.T @ F)**-1)\n",
    "    alphahat = np.matmul(np.matmul(Finv_train, F.T), Y_train)\n",
    "    \n",
    "    # Compute the prediction on the training data: Yhat_train = b0 + F x alphahat\n",
    "    Yhat_train = b0 + np.matmul(F, alphahat)\n",
    "\n",
    "    \n",
    "    # Transform Xtest by multiplying it with V_trunc: F_test = X_test x V_trunc\n",
    "    F_test = np.matmul(X_test_center, V_trunc)\n",
    "    #Finv_test = np.diag(np.diag(F_test.T @ F_test)**-1)\n",
    "    #alphahat_test = np.matmul(np.matmul(Finv_test, F_test.T), Y_train)\n",
    "    \n",
    "    # Similarly, compute the prediction on the test data.\n",
    "    Yhat_test = b0 + np.matmul(F_test, alphahat)\n",
    "\n",
    "    # Calculate and return the train/test Mean Squared Prediction Errors\n",
    "    mse_test = mean_squared_error(Y_test, Yhat_test)\n",
    "    mse_train = mean_squared_error(Y_train, Yhat_train)\n",
    "\n",
    "    return mse_train, mse_test"
   ]
  },
  {
   "cell_type": "code",
   "execution_count": 3,
   "id": "e06cbdbb-e006-4432-a747-f7862017dea3",
   "metadata": {},
   "outputs": [],
   "source": [
    "myData = pd.read_csv(\"Coding3_DataH.csv\", header=None)\n",
    "\n",
    "Y = myData.iloc[:, 0]\n",
    "X = myData.drop(myData.columns[0],axis=1)"
   ]
  },
  {
   "cell_type": "code",
   "execution_count": 4,
   "id": "991afc14-1d8e-442c-80dc-a06f1b6f6487",
   "metadata": {},
   "outputs": [
    {
     "data": {
      "text/plain": [
       "((506, 240), 506)"
      ]
     },
     "execution_count": 4,
     "metadata": {},
     "output_type": "execute_result"
    }
   ],
   "source": [
    "X.shape, len(Y)"
   ]
  },
  {
   "cell_type": "code",
   "execution_count": 5,
   "id": "a7ccfb8c-2e0e-40d0-bcb1-0dc8802030cb",
   "metadata": {},
   "outputs": [],
   "source": [
    "np.random.seed(1299)"
   ]
  },
  {
   "cell_type": "code",
   "execution_count": 6,
   "id": "a9c3bfb8-40cd-4c48-868c-b95e5aa03000",
   "metadata": {},
   "outputs": [],
   "source": [
    "test_error = np.zeros((30, 236))\n",
    "\n",
    "for i in range(30):\n",
    "    # Splitting the data into 25% training and 75% testing sets\n",
    "    n = len(Y)\n",
    "    indices = np.arange(0, n)\n",
    "    np.random.shuffle(indices)\n",
    "    \n",
    "    train_ind = indices[:int(np.floor(0.25*n))]\n",
    "    test_ind = indices[len(train_ind):]\n",
    "    \n",
    "    X_train = X.iloc[train_ind]\n",
    "    Y_train = Y[train_ind]\n",
    "    X_test = X.iloc[test_ind]\n",
    "    Y_test = Y[test_ind]\n",
    "\n",
    "    for d in range(6, 241):\n",
    "        mse_train, mse_test = ridgeless(X_train.iloc[:, 0:d], Y_train, X_test.iloc[:, 0:d], Y_test)\n",
    "        test_error[i, d-6] = mse_test\n"
   ]
  },
  {
   "cell_type": "code",
   "execution_count": 7,
   "id": "c783367c-496e-4a7c-be87-e73656235d72",
   "metadata": {},
   "outputs": [
    {
     "data": {
      "image/png": "[encoded data removed]",
      "text/plain": [
       "<Figure size 640x480 with 1 Axes>"
      ]
     },
     "metadata": {},
     "output_type": "display_data"
    }
   ],
   "source": [
    "test_error_log_median = np.log(np.median(test_error,axis=0))\n",
    "x_range = [range(5, 241)]\n",
    "\n",
    "plt.scatter(x_range, test_error_log_median)\n",
    "plt.ylabel(\"Log of TestError\")\n",
    "plt.xlabel(\"# of features\")\n",
    "plt.show()"
   ]
  },
  {
   "cell_type": "code",
   "execution_count": null,
   "id": "fbc1b2ce-6131-4337-984d-e477aa489f46",
   "metadata": {},
   "outputs": [],
   "source": []
  }
 ],
 "metadata": {
  "kernelspec": {
   "display_name": "Python 3 (ipykernel)",
   "language": "python",
   "name": "python3"
  },
  "language_info": {
   "codemirror_mode": {
    "name": "ipython",
    "version": 3
   },
   "file_extension": ".py",
   "mimetype": "text/x-python",
   "name": "python",
   "nbconvert_exporter": "python",
   "pygments_lexer": "ipython3",
   "version": "3.12.4"
  }
 },
 "nbformat": 4,
 "nbformat_minor": 5
}
