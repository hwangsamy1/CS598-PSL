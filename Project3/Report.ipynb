{
 "cells": [
  {
   "cell_type": "markdown",
   "id": "f0c16524-921d-4904-be84-9e49c18f09c9",
   "metadata": {},
   "source": [
    "# Section 1"
   ]
  },
  {
   "cell_type": "markdown",
   "id": "eb110450-167c-4ff2-b52a-fed18a0a25ac",
   "metadata": {},
   "source": [
    "#### Discuss the technical details of the sentiment classification model, including data preprocessing and other key aspects of your model implementation. Your explanation should be detailed enough for your PSL classmates to replicate your results."
   ]
  },
  {
   "cell_type": "markdown",
   "id": "0c9ace97-e720-4279-a08c-d540f1465190",
   "metadata": {},
   "source": [
    "We used GridSearchCV for hyperparameter selection. The penalty is elasticnet, and saga is the solver. We used a max iteration count of 2000 to ensure convergence due to the large dataset size."
   ]
  },
  {
   "cell_type": "markdown",
   "id": "8a85cbcc-e1b4-460a-a319-3039d5b8ba33",
   "metadata": {},
   "source": [
    "#### Report the AUC of your predictions on each of the 5 test datasets (refer to the evaluation metric described above), the execution time of your code, and the specifications of the computer system used (e.g., Macbook Pro, 2.53 GHz, 4GB memory, or AWS t2.large) for each of the 5 splits."
   ]
  },
  {
   "cell_type": "markdown",
   "id": "e31ebc8d-2a8d-4a52-9bf0-8b3959cbb12c",
   "metadata": {},
   "source": [
    "Split 1: \n",
    "- AUC Score for LogisticRegression: 0.9870942\n",
    "- Execution time: 30.1842 seconds\n",
    "  \n",
    "Split 2:\n",
    "- AUC Score for LogisticRegression: 0.9867907\n",
    "- Execution time: 30.1352 seconds\n",
    "  \n",
    "Split 3:\n",
    "- AUC Score for LogisticRegression: 0.9864187\n",
    "- Execution time: 30.8156 seconds\n",
    "  \n",
    "Split 4:\n",
    "- AUC Score for LogisticRegression: 0.9869783\n",
    "- Execution time: 31.2468 seconds\n",
    "  \n",
    "Split 5:\n",
    "- AUC Score for LogisticRegression: 0.9862662\n",
    "- Execution time: 31.1201 seconds\n",
    "\n",
    "Computer system specs: Macbook Pro, 3.2 Ghz, 32 GB memory"
   ]
  },
  {
   "cell_type": "markdown",
   "id": "05220238-f0c8-4835-bb7a-b81490bce9b9",
   "metadata": {},
   "source": [
    "# Section 2"
   ]
  },
  {
   "cell_type": "markdown",
   "id": "d694578e-62d8-424f-95e6-a598cc272ef3",
   "metadata": {},
   "source": [
    "#### Provide a detailed explanation of your interpretability approach."
   ]
  },
  {
   "cell_type": "markdown",
   "id": "c6f43a1c-f2da-4b9c-9e32-9d02d6201fdb",
   "metadata": {},
   "source": [
    "Obtain BERT embeddings"
   ]
  },
  {
   "cell_type": "code",
   "execution_count": 26,
   "id": "988d13d7-7e6d-4fdb-97e8-95fc677d6e01",
   "metadata": {},
   "outputs": [],
   "source": [
    "import pandas as pd\n",
    "import random\n",
    "from sentence_transformers import SentenceTransformer\n",
    "from sklearn.linear_model import LinearRegression"
   ]
  },
  {
   "cell_type": "code",
   "execution_count": 28,
   "id": "cba2cd32-d8c8-402c-9f02-a8ccc3b9dff5",
   "metadata": {},
   "outputs": [],
   "source": [
    "test_file_path = f'./F24_Proj3_data/split_1/test.csv'\n",
    "test_y_file_path = f'./F24_Proj3_data/split_1/test_y.csv'\n",
    "\n",
    "test = pd.read_csv(test_file_path)\n",
    "test_y = pd.read_csv(test_y_file_path)"
   ]
  },
  {
   "cell_type": "code",
   "execution_count": 29,
   "id": "579ae25b-d919-46d4-bc3c-a9f9fb1758cc",
   "metadata": {},
   "outputs": [],
   "source": [
    "random.seed(42)"
   ]
  },
  {
   "cell_type": "markdown",
   "id": "15438f3c-2ea2-4702-8731-ed7dd02e123c",
   "metadata": {},
   "source": [
    "Grab 5 random positive reviews and 5 random negative reviews and combine them into one DataFrame."
   ]
  },
  {
   "cell_type": "code",
   "execution_count": 30,
   "id": "d533cbb7-463c-4a88-8bbe-98a6eb0b47e7",
   "metadata": {},
   "outputs": [],
   "source": [
    "positive_reviews = test[test_y['sentiment'] == 1].sample(5, random_state=42)\n",
    "negative_reviews = test[test_y['sentiment'] == 0].sample(5, random_state=42)\n",
    "selected_reviews = pd.concat([positive_reviews, negative_reviews])"
   ]
  },
  {
   "cell_type": "markdown",
   "id": "38d1da8a-d145-4eae-80a3-2d0725a2ce68",
   "metadata": {},
   "source": [
    "Convert the DataFrame into a string array and encode it in SentenceTransformer."
   ]
  },
  {
   "cell_type": "code",
   "execution_count": 31,
   "id": "de457e2a-eb97-4fd1-9027-ec5e0dfe11a3",
   "metadata": {},
   "outputs": [],
   "source": [
    "review = selected_reviews['review'].to_numpy()\n",
    "\n",
    "model = SentenceTransformer(\"all-MiniLM-L6-v2\")\n",
    "X_embeddings = model.encode(review)"
   ]
  },
  {
   "cell_type": "markdown",
   "id": "45279ae2-844a-44c0-876c-88f84f782130",
   "metadata": {},
   "source": [
    "Now find a linear transformation W such that Y roughly equals X*W."
   ]
  },
  {
   "cell_type": "code",
   "execution_count": 33,
   "id": "e9b5a240-c944-410e-8d80-4606ea6b94d1",
   "metadata": {},
   "outputs": [],
   "source": [
    "Y_embeddings = selected_reviews.iloc[:, 2:]\n",
    "\n",
    "model = LinearRegression()\n",
    "model.fit(X_embeddings, Y_embeddings)\n",
    "W_optimal = model.coef_\n",
    "\n",
    "intercept = model.intercept_"
   ]
  },
  {
   "cell_type": "code",
   "execution_count": 34,
   "id": "a2824a26-d1e3-4646-8d65-cdd103244bd1",
   "metadata": {},
   "outputs": [
    {
     "name": "stdout",
     "output_type": "stream",
     "text": [
      "Optimal weights (W): [[-0.00786921 -0.00081155  0.00093443 ... -0.00090624  0.00169501\n",
      "   0.00380206]\n",
      " [ 0.00710443  0.00240365 -0.00580404 ... -0.00151746  0.00207799\n",
      "  -0.00403878]\n",
      " [-0.01501093 -0.00217633 -0.00672629 ...  0.00034385  0.00499082\n",
      "  -0.00024948]\n",
      " ...\n",
      " [ 0.0015455  -0.00022838 -0.00616118 ... -0.00295009 -0.00050465\n",
      "   0.00158576]\n",
      " [ 0.00295547 -0.00340234  0.0056772  ...  0.00038215  0.00539475\n",
      "   0.00391316]\n",
      " [ 0.01103682 -0.00359466  0.00985823 ...  0.00404666  0.00261448\n",
      "  -0.00288311]]\n",
      "Intercept (bias): [-0.00032262  0.05894218 -0.05273826 ...  0.01001744  0.00936972\n",
      " -0.02275034]\n"
     ]
    }
   ],
   "source": [
    "print(\"Optimal weights (W):\", W_optimal)\n",
    "print(\"Intercept (bias):\", intercept)"
   ]
  },
  {
   "cell_type": "code",
   "execution_count": null,
   "id": "4a48f905-48bb-4926-852e-fa6d5fff0100",
   "metadata": {},
   "outputs": [],
   "source": []
  }
 ],
 "metadata": {
  "kernelspec": {
   "display_name": "Python 3 (ipykernel)",
   "language": "python",
   "name": "python3"
  },
  "language_info": {
   "codemirror_mode": {
    "name": "ipython",
    "version": 3
   },
   "file_extension": ".py",
   "mimetype": "text/x-python",
   "name": "python",
   "nbconvert_exporter": "python",
   "pygments_lexer": "ipython3",
   "version": "3.12.4"
  }
 },
 "nbformat": 4,
 "nbformat_minor": 5
}
