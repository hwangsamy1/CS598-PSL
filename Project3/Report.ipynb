{
 "cells": [
  {
   "cell_type": "markdown",
   "id": "ed2e60e8-de83-468c-a51c-5022e46952eb",
   "metadata": {},
   "source": [
    "# (PSL) Project 3"
   ]
  },
  {
   "cell_type": "markdown",
   "id": "8226c4f0-ab10-4cd7-aa51-236d97ddf6be",
   "metadata": {},
   "source": [
    "Members:\n",
    "- Amy Hwang (ahwang22)\n",
    "- Christian Tam (cmtam2)\n",
    "- Monil Kaneria (kaneria2)"
   ]
  },
  {
   "cell_type": "markdown",
   "id": "e811ba59-eeea-4f3b-b998-932fc594ec64",
   "metadata": {},
   "source": [
    "Amy Hwang worked on the"
   ]
  },
  {
   "cell_type": "markdown",
   "id": "f0c16524-921d-4904-be84-9e49c18f09c9",
   "metadata": {},
   "source": [
    "# Section 1"
   ]
  },
  {
   "cell_type": "markdown",
   "id": "eb110450-167c-4ff2-b52a-fed18a0a25ac",
   "metadata": {},
   "source": [
    "#### Discuss the technical details of the sentiment classification model, including data preprocessing and other key aspects of your model implementation. Your explanation should be detailed enough for your PSL classmates to replicate your results."
   ]
  },
  {
   "cell_type": "markdown",
   "id": "0c9ace97-e720-4279-a08c-d540f1465190",
   "metadata": {},
   "source": [
    "We used GridSearchCV for hyperparameter selection. The penalty is elasticnet, and saga is the solver. We used a max iteration count of 2000 to ensure convergence due to the large dataset size."
   ]
  },
  {
   "cell_type": "markdown",
   "id": "8a85cbcc-e1b4-460a-a319-3039d5b8ba33",
   "metadata": {},
   "source": [
    "#### Report the AUC of your predictions on each of the 5 test datasets (refer to the evaluation metric described above), the execution time of your code, and the specifications of the computer system used (e.g., Macbook Pro, 2.53 GHz, 4GB memory, or AWS t2.large) for each of the 5 splits."
   ]
  },
  {
   "cell_type": "markdown",
   "id": "e31ebc8d-2a8d-4a52-9bf0-8b3959cbb12c",
   "metadata": {},
   "source": [
    "Split 1: \n",
    "- AUC Score for LogisticRegression: 0.9870942\n",
    "- Execution time: 30.1842 seconds\n",
    "  \n",
    "Split 2:\n",
    "- AUC Score for LogisticRegression: 0.9867907\n",
    "- Execution time: 30.1352 seconds\n",
    "  \n",
    "Split 3:\n",
    "- AUC Score for LogisticRegression: 0.9864187\n",
    "- Execution time: 30.8156 seconds\n",
    "  \n",
    "Split 4:\n",
    "- AUC Score for LogisticRegression: 0.9869783\n",
    "- Execution time: 31.2468 seconds\n",
    "  \n",
    "Split 5:\n",
    "- AUC Score for LogisticRegression: 0.9862662\n",
    "- Execution time: 31.1201 seconds\n",
    "\n",
    "Computer system specs: Macbook Pro, 3.2 Ghz, 32 GB memory"
   ]
  },
  {
   "cell_type": "markdown",
   "id": "05220238-f0c8-4835-bb7a-b81490bce9b9",
   "metadata": {},
   "source": [
    "# Section 2"
   ]
  },
  {
   "cell_type": "markdown",
   "id": "d694578e-62d8-424f-95e6-a598cc272ef3",
   "metadata": {},
   "source": [
    "#### Provide a detailed explanation of your interpretability approach."
   ]
  },
  {
   "cell_type": "markdown",
   "id": "c6f43a1c-f2da-4b9c-9e32-9d02d6201fdb",
   "metadata": {},
   "source": [
    "Obtain BERT embeddings"
   ]
  },
  {
   "cell_type": "code",
   "execution_count": 26,
   "id": "988d13d7-7e6d-4fdb-97e8-95fc677d6e01",
   "metadata": {},
   "outputs": [],
   "source": [
    "import pandas as pd\n",
    "import random\n",
    "from sentence_transformers import SentenceTransformer\n",
    "from sklearn.linear_model import LinearRegression"
   ]
  },
  {
   "cell_type": "code",
   "execution_count": 28,
   "id": "cba2cd32-d8c8-402c-9f02-a8ccc3b9dff5",
   "metadata": {},
   "outputs": [],
   "source": [
    "test_file_path = f'./F24_Proj3_data/split_1/test.csv'\n",
    "test_y_file_path = f'./F24_Proj3_data/split_1/test_y.csv'\n",
    "\n",
    "test = pd.read_csv(test_file_path)\n",
    "test_y = pd.read_csv(test_y_file_path)"
   ]
  },
  {
   "cell_type": "code",
   "execution_count": 29,
   "id": "579ae25b-d919-46d4-bc3c-a9f9fb1758cc",
   "metadata": {},
   "outputs": [],
   "source": [
    "random.seed(42)"
   ]
  },
  {
   "cell_type": "markdown",
   "id": "15438f3c-2ea2-4702-8731-ed7dd02e123c",
   "metadata": {},
   "source": [
    "Grab 5 random positive reviews and 5 random negative reviews and combine them into one DataFrame."
   ]
  },
  {
   "cell_type": "code",
   "execution_count": 30,
   "id": "d533cbb7-463c-4a88-8bbe-98a6eb0b47e7",
   "metadata": {},
   "outputs": [],
   "source": [
    "positive_reviews = test[test_y['sentiment'] == 1].sample(5, random_state=42)\n",
    "negative_reviews = test[test_y['sentiment'] == 0].sample(5, random_state=42)\n",
    "selected_reviews = pd.concat([positive_reviews, negative_reviews])"
   ]
  },
  {
   "cell_type": "markdown",
   "id": "9307387b-c9dd-42a3-a6d4-465f6781c076",
   "metadata": {},
   "source": [
    "Pull in the BERT embedded data from GitHub."
   ]
  },
  {
   "cell_type": "code",
   "execution_count": 35,
   "id": "660868cc-e3a6-40ef-9622-610c3c995c0c",
   "metadata": {},
   "outputs": [],
   "source": [
    "url = 'https://github.com/hwangsamy1/CS598-PSL/blob/12dec4b55bca444796843097ad0f55df09a74d30/Project3/SBERT_embeddings_random.csv'"
   ]
  },
  {
   "cell_type": "code",
   "execution_count": 38,
   "id": "f82d75bb-7066-4d97-9356-720fb4a57e4a",
   "metadata": {},
   "outputs": [
    {
     "ename": "ParserError",
     "evalue": "Error tokenizing data. C error: Expected 1 fields in line 42, saw 22\n",
     "output_type": "error",
     "traceback": [
      "\u001b[0;31m---------------------------------------------------------------------------\u001b[0m",
      "\u001b[0;31mParserError\u001b[0m                               Traceback (most recent call last)",
      "Cell \u001b[0;32mIn[38], line 1\u001b[0m\n\u001b[0;32m----> 1\u001b[0m pd\u001b[38;5;241m.\u001b[39mread_csv(url, quotechar\u001b[38;5;241m=\u001b[39m\u001b[38;5;124m'\u001b[39m\u001b[38;5;124m\"\u001b[39m\u001b[38;5;124m'\u001b[39m)\n",
      "File \u001b[0;32m/opt/anaconda3/lib/python3.12/site-packages/pandas/io/parsers/readers.py:1026\u001b[0m, in \u001b[0;36mread_csv\u001b[0;34m(filepath_or_buffer, sep, delimiter, header, names, index_col, usecols, dtype, engine, converters, true_values, false_values, skipinitialspace, skiprows, skipfooter, nrows, na_values, keep_default_na, na_filter, verbose, skip_blank_lines, parse_dates, infer_datetime_format, keep_date_col, date_parser, date_format, dayfirst, cache_dates, iterator, chunksize, compression, thousands, decimal, lineterminator, quotechar, quoting, doublequote, escapechar, comment, encoding, encoding_errors, dialect, on_bad_lines, delim_whitespace, low_memory, memory_map, float_precision, storage_options, dtype_backend)\u001b[0m\n\u001b[1;32m   1013\u001b[0m kwds_defaults \u001b[38;5;241m=\u001b[39m _refine_defaults_read(\n\u001b[1;32m   1014\u001b[0m     dialect,\n\u001b[1;32m   1015\u001b[0m     delimiter,\n\u001b[0;32m   (...)\u001b[0m\n\u001b[1;32m   1022\u001b[0m     dtype_backend\u001b[38;5;241m=\u001b[39mdtype_backend,\n\u001b[1;32m   1023\u001b[0m )\n\u001b[1;32m   1024\u001b[0m kwds\u001b[38;5;241m.\u001b[39mupdate(kwds_defaults)\n\u001b[0;32m-> 1026\u001b[0m \u001b[38;5;28;01mreturn\u001b[39;00m _read(filepath_or_buffer, kwds)\n",
      "File \u001b[0;32m/opt/anaconda3/lib/python3.12/site-packages/pandas/io/parsers/readers.py:626\u001b[0m, in \u001b[0;36m_read\u001b[0;34m(filepath_or_buffer, kwds)\u001b[0m\n\u001b[1;32m    623\u001b[0m     \u001b[38;5;28;01mreturn\u001b[39;00m parser\n\u001b[1;32m    625\u001b[0m \u001b[38;5;28;01mwith\u001b[39;00m parser:\n\u001b[0;32m--> 626\u001b[0m     \u001b[38;5;28;01mreturn\u001b[39;00m parser\u001b[38;5;241m.\u001b[39mread(nrows)\n",
      "File \u001b[0;32m/opt/anaconda3/lib/python3.12/site-packages/pandas/io/parsers/readers.py:1923\u001b[0m, in \u001b[0;36mTextFileReader.read\u001b[0;34m(self, nrows)\u001b[0m\n\u001b[1;32m   1916\u001b[0m nrows \u001b[38;5;241m=\u001b[39m validate_integer(\u001b[38;5;124m\"\u001b[39m\u001b[38;5;124mnrows\u001b[39m\u001b[38;5;124m\"\u001b[39m, nrows)\n\u001b[1;32m   1917\u001b[0m \u001b[38;5;28;01mtry\u001b[39;00m:\n\u001b[1;32m   1918\u001b[0m     \u001b[38;5;66;03m# error: \"ParserBase\" has no attribute \"read\"\u001b[39;00m\n\u001b[1;32m   1919\u001b[0m     (\n\u001b[1;32m   1920\u001b[0m         index,\n\u001b[1;32m   1921\u001b[0m         columns,\n\u001b[1;32m   1922\u001b[0m         col_dict,\n\u001b[0;32m-> 1923\u001b[0m     ) \u001b[38;5;241m=\u001b[39m \u001b[38;5;28mself\u001b[39m\u001b[38;5;241m.\u001b[39m_engine\u001b[38;5;241m.\u001b[39mread(  \u001b[38;5;66;03m# type: ignore[attr-defined]\u001b[39;00m\n\u001b[1;32m   1924\u001b[0m         nrows\n\u001b[1;32m   1925\u001b[0m     )\n\u001b[1;32m   1926\u001b[0m \u001b[38;5;28;01mexcept\u001b[39;00m \u001b[38;5;167;01mException\u001b[39;00m:\n\u001b[1;32m   1927\u001b[0m     \u001b[38;5;28mself\u001b[39m\u001b[38;5;241m.\u001b[39mclose()\n",
      "File \u001b[0;32m/opt/anaconda3/lib/python3.12/site-packages/pandas/io/parsers/c_parser_wrapper.py:234\u001b[0m, in \u001b[0;36mCParserWrapper.read\u001b[0;34m(self, nrows)\u001b[0m\n\u001b[1;32m    232\u001b[0m \u001b[38;5;28;01mtry\u001b[39;00m:\n\u001b[1;32m    233\u001b[0m     \u001b[38;5;28;01mif\u001b[39;00m \u001b[38;5;28mself\u001b[39m\u001b[38;5;241m.\u001b[39mlow_memory:\n\u001b[0;32m--> 234\u001b[0m         chunks \u001b[38;5;241m=\u001b[39m \u001b[38;5;28mself\u001b[39m\u001b[38;5;241m.\u001b[39m_reader\u001b[38;5;241m.\u001b[39mread_low_memory(nrows)\n\u001b[1;32m    235\u001b[0m         \u001b[38;5;66;03m# destructive to chunks\u001b[39;00m\n\u001b[1;32m    236\u001b[0m         data \u001b[38;5;241m=\u001b[39m _concatenate_chunks(chunks)\n",
      "File \u001b[0;32mparsers.pyx:838\u001b[0m, in \u001b[0;36mpandas._libs.parsers.TextReader.read_low_memory\u001b[0;34m()\u001b[0m\n",
      "File \u001b[0;32mparsers.pyx:905\u001b[0m, in \u001b[0;36mpandas._libs.parsers.TextReader._read_rows\u001b[0;34m()\u001b[0m\n",
      "File \u001b[0;32mparsers.pyx:874\u001b[0m, in \u001b[0;36mpandas._libs.parsers.TextReader._tokenize_rows\u001b[0;34m()\u001b[0m\n",
      "File \u001b[0;32mparsers.pyx:891\u001b[0m, in \u001b[0;36mpandas._libs.parsers.TextReader._check_tokenize_status\u001b[0;34m()\u001b[0m\n",
      "File \u001b[0;32mparsers.pyx:2061\u001b[0m, in \u001b[0;36mpandas._libs.parsers.raise_parser_error\u001b[0;34m()\u001b[0m\n",
      "\u001b[0;31mParserError\u001b[0m: Error tokenizing data. C error: Expected 1 fields in line 42, saw 22\n"
     ]
    }
   ],
   "source": [
    "pd.read_csv(url, quotechar='\"')"
   ]
  },
  {
   "cell_type": "markdown",
   "id": "38d1da8a-d145-4eae-80a3-2d0725a2ce68",
   "metadata": {},
   "source": []
  },
  {
   "cell_type": "code",
   "execution_count": null,
   "id": "4a48f905-48bb-4926-852e-fa6d5fff0100",
   "metadata": {},
   "outputs": [],
   "source": []
  }
 ],
 "metadata": {
  "kernelspec": {
   "display_name": "Python 3 (ipykernel)",
   "language": "python",
   "name": "python3"
  },
  "language_info": {
   "codemirror_mode": {
    "name": "ipython",
    "version": 3
   },
   "file_extension": ".py",
   "mimetype": "text/x-python",
   "name": "python",
   "nbconvert_exporter": "python",
   "pygments_lexer": "ipython3",
   "version": "3.12.4"
  }
 },
 "nbformat": 4,
 "nbformat_minor": 5
}
