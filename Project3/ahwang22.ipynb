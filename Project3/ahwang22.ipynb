{
 "cells": [
  {
   "cell_type": "code",
   "execution_count": 13,
   "id": "7466626b-ba12-47ef-8243-8c7e351d0249",
   "metadata": {},
   "outputs": [],
   "source": [
    "import numpy as np\n",
    "import pandas as pd\n",
    "import random\n",
    "\n",
    "from sklearn.linear_model import LogisticRegression, LogisticRegressionCV, Lasso\n",
    "from sklearn.model_selection import GridSearchCV, train_test_split\n",
    "from sklearn.datasets import make_classification\n",
    "from sklearn.metrics import roc_auc_score, accuracy_score\n",
    "from sklearn.feature_extraction.text import CountVectorizer, TfidfVectorizer\n",
    "from sklearn.model_selection import StratifiedKFold\n",
    "from sklearn.preprocessing import StandardScaler\n",
    "\n",
    "from lime.lime_text import LimeTextExplainer\n",
    "\n",
    "import time\n"
   ]
  },
  {
   "cell_type": "markdown",
   "id": "371aa5c4-76fb-4a3f-9396-5451c7e4d379",
   "metadata": {},
   "source": [
    "## Binary Classification"
   ]
  },
  {
   "cell_type": "markdown",
   "id": "09b7aea3-55d5-4a2a-a0c8-62b036d17634",
   "metadata": {},
   "source": [
    "Attempting GridSearchCV for hyperparameter selection. The penalty is elasticnet, and saga is the solver. We used a max iteration count of 2000 to ensure convergence due to the large dataset size."
   ]
  },
  {
   "cell_type": "code",
   "execution_count": 16,
   "id": "45c20289-2953-40c9-a97e-be4d1e45e73f",
   "metadata": {},
   "outputs": [
    {
     "name": "stdout",
     "output_type": "stream",
     "text": [
      "Fitting 5 folds for each of 8 candidates, totalling 40 fits\n",
      "\n",
      "Fold  0\n",
      "Best hyperparameters: {'C': 10, 'l1_ratio': 0.1, 'max_iter': 2000, 'penalty': 'elasticnet', 'solver': 'saga'}\n",
      "Best cross-validation score: 0.94784\n",
      "Test set accuracy: 0.94772\n",
      "Fitting 5 folds for each of 8 candidates, totalling 40 fits\n",
      "\n",
      "Fold  1\n",
      "Best hyperparameters: {'C': 10, 'l1_ratio': 0.1, 'max_iter': 2000, 'penalty': 'elasticnet', 'solver': 'saga'}\n",
      "Best cross-validation score: 0.94784\n",
      "Test set accuracy: 0.94772\n",
      "Fitting 5 folds for each of 8 candidates, totalling 40 fits\n",
      "\n",
      "Fold  2\n",
      "Best hyperparameters: {'C': 10, 'l1_ratio': 0.1, 'max_iter': 2000, 'penalty': 'elasticnet', 'solver': 'saga'}\n",
      "Best cross-validation score: 0.94784\n",
      "Test set accuracy: 0.94772\n",
      "Fitting 5 folds for each of 8 candidates, totalling 40 fits\n",
      "\n",
      "Fold  3\n",
      "Best hyperparameters: {'C': 10, 'l1_ratio': 0.1, 'max_iter': 2000, 'penalty': 'elasticnet', 'solver': 'saga'}\n",
      "Best cross-validation score: 0.94784\n",
      "Test set accuracy: 0.94772\n",
      "Fitting 5 folds for each of 8 candidates, totalling 40 fits\n",
      "\n",
      "Fold  4\n",
      "Best hyperparameters: {'C': 10, 'l1_ratio': 0.1, 'max_iter': 2000, 'penalty': 'elasticnet', 'solver': 'saga'}\n",
      "Best cross-validation score: 0.94784\n",
      "Test set accuracy: 0.94772\n"
     ]
    }
   ],
   "source": [
    "num_splits = 5\n",
    "cv_k = StratifiedKFold(n_splits=num_splits, shuffle=True, random_state=42)\n",
    "\n",
    "param_grid = {\n",
    "    'C': [1, 3, 5, 10],\n",
    "    'penalty': ['elasticnet'],\n",
    "    'solver': ['saga'],\n",
    "    'l1_ratio': [0.1, 0.5],\n",
    "    'max_iter': [2000],\n",
    "}\n",
    "\n",
    "for i in range(num_splits):\n",
    "    start_time = time.time()\n",
    "    train_file_path = f'./F24_Proj3_data/split_{2}/train.csv'\n",
    "    test_file_path = f'./F24_Proj3_data/split_{2}/test.csv'\n",
    "    test_y_file_path = f'./F24_Proj3_data/split_{2}/test_y.csv'\n",
    "\n",
    "    # Load data\n",
    "    X_train = pd.read_csv(train_file_path).iloc[:, 3:]\n",
    "    y_train = pd.read_csv(train_file_path).iloc[:, 1]\n",
    "\n",
    "    X_test = pd.read_csv(test_file_path).iloc[:, 2:]\n",
    "    y_test = pd.read_csv(test_y_file_path).iloc[:, 1]\n",
    "\n",
    "    log_reg = LogisticRegression()\n",
    "    \n",
    "    grid_search = GridSearchCV(estimator=log_reg, \n",
    "                               param_grid = param_grid,\n",
    "                               cv=cv_k,\n",
    "                               n_jobs=-1,\n",
    "                               verbose=1,\n",
    "                               scoring='accuracy')\n",
    "    \n",
    "    grid_search.fit(X_train, y_train)\n",
    "\n",
    "    print(\"\\nFold \", i+1) \n",
    "    # Access the best parameters and best estimator\n",
    "    print(\"Best hyperparameters:\", grid_search.best_params_)\n",
    "    print(\"Best cross-validation score:\", grid_search.best_score_)\n",
    "    \n",
    "    # Get the best model\n",
    "    best_model = grid_search.best_estimator_\n",
    "    \n",
    "    # Make predictions with the best model\n",
    "    y_pred = best_model.predict(X_test)\n",
    "\n",
    "    \n",
    "    # Evaluate the model on the test set\n",
    "    accuracy = accuracy_score(y_test, y_pred)\n",
    "    print(f\"Test set accuracy: {accuracy}\")"
   ]
  },
  {
   "cell_type": "markdown",
   "id": "0b2d3307-d2f1-4b97-905e-ff5bb44c46b2",
   "metadata": {},
   "source": [
    "Now we'll train the logistic regression model using the best C and l1 ratio we found earlier. C = 10, l1 = 0.1."
   ]
  },
  {
   "cell_type": "code",
   "execution_count": null,
   "id": "9f34504f-01c6-45fd-b899-92b931019850",
   "metadata": {},
   "outputs": [
    {
     "name": "stdout",
     "output_type": "stream",
     "text": [
      "Split 1: AUC Score for LogisticRegression: 0.9870942\n",
      "| Execution time: 29.1046 seconds\n",
      "Split 2: AUC Score for LogisticRegression: 0.9867907\n",
      "| Execution time: 29.5183 seconds\n",
      "Split 3: AUC Score for LogisticRegression: 0.9864187\n",
      "| Execution time: 29.9895 seconds\n",
      "Split 4: AUC Score for LogisticRegression: 0.9869783\n",
      "| Execution time: 29.8482 seconds\n"
     ]
    }
   ],
   "source": [
    "num_splits = 5\n",
    "\n",
    "log_reg = LogisticRegression(\n",
    "    penalty='elasticnet',\n",
    "    solver='saga',\n",
    "    l1_ratio=0.1,  \n",
    "    C=10,\n",
    "    max_iter=1000,\n",
    "    n_jobs=-1,\n",
    "    random_state=42\n",
    ")\n",
    "\n",
    "for i in range(num_splits):\n",
    "    start_time = time.time()\n",
    "    train_file_path = f'./F24_Proj3_data/split_{i+1}/train.csv'\n",
    "    test_file_path = f'./F24_Proj3_data/split_{i+1}/test.csv'\n",
    "    test_y_file_path = f'./F24_Proj3_data/split_{i+1}/test_y.csv'\n",
    "\n",
    "    # Load data\n",
    "    X_train = pd.read_csv(train_file_path).iloc[:, 3:]\n",
    "    y_train = pd.read_csv(train_file_path).iloc[:, 1]\n",
    "\n",
    "    X_test = pd.read_csv(test_file_path).iloc[:, 2:]\n",
    "    y_test = pd.read_csv(test_y_file_path).iloc[:, 1]\n",
    "\n",
    "    log_reg.fit(X_train, y_train)\n",
    "\n",
    "    y_pred_proba = log_reg.predict_proba(X_test)[:, 1]\n",
    "\n",
    "    auc_score = roc_auc_score(y_test, y_pred_proba)\n",
    "    print(f'Split {i+1}: AUC Score for LogisticRegression: {auc_score:.7f}')\n",
    "    print(f'| Execution time: {round(time.time() - start_time, 4)} seconds')"
   ]
  },
  {
   "cell_type": "code",
   "execution_count": 12,
   "id": "d3e3697b-9b19-4023-9eed-3feeb54592f2",
   "metadata": {},
   "outputs": [],
   "source": [
    "import joblib"
   ]
  },
  {
   "cell_type": "code",
   "execution_count": null,
   "id": "91e1c8cf-d2b3-4138-8a5c-7bf8574ca16e",
   "metadata": {},
   "outputs": [],
   "source": [
    "joblib.dump(model, 'logistic_model.pkl')"
   ]
  },
  {
   "cell_type": "markdown",
   "id": "846a8501-cf90-48d8-bc1c-0f3f12e5e4a9",
   "metadata": {},
   "source": [
    "## Interpretability Analysis"
   ]
  },
  {
   "cell_type": "markdown",
   "id": "7cef4fbf-6554-4985-8684-d2c243241258",
   "metadata": {},
   "source": [
    "Using split 1 and the corresponding trained model, implement an interpretability approach to identify which parts of each review have an impact on the sentiment prediction. Apply your method to 5 randomly selected positive reviews and 5 randomly selected negative reviews from the split 1 test data.\n",
    "\n",
    "We will use the bag of words approach, which disregards word order and context, representing each review by presence or absence of words and their frequency."
   ]
  },
  {
   "cell_type": "code",
   "execution_count": 8,
   "id": "00da98ef-5be8-42f3-abef-8d7797dc5ddd",
   "metadata": {},
   "outputs": [],
   "source": [
    "train_file_path = f'./F24_Proj3_data/split_1/train.csv'\n",
    "test_file_path = f'./F24_Proj3_data/split_1/test.csv'\n",
    "test_y_file_path = f'./F24_Proj3_data/split_1/test_y.csv'\n",
    "\n",
    "train = pd.read_csv(train_file_path)\n",
    "test = pd.read_csv(test_file_path)\n",
    "test_y = pd.read_csv(test_y_file_path)\n",
    "\n",
    "stop_words = ['i', 'me', 'my', 'myself', 'we', 'our', 'ours', 'ourselves',\n",
    "             'you', 'your', 'yours', 'their', 'they', 'his', 'her', 'she',\n",
    "             'he', 'a', 'an', 'and', 'is', 'was', 'are', 'were', 'him',\n",
    "             'himself', 'has', 'have', 'it', 'its', 'the', 'us']"
   ]
  },
  {
   "cell_type": "markdown",
   "id": "4e5282d0-4a43-431f-a934-8034fc969e47",
   "metadata": {},
   "source": [
    "We are doing some preprocessing:\n",
    "- Replacing HTML tags from reviews with a space character\n",
    "- Removing stop words\n",
    "- Convert to lowercase\n",
    "- remove rarely used words\n",
    "Note: The token pattern below treats words separated by apostrophes as a single token rather two splitting it into two tokens.\n",
    "\n",
    "CountVectorizer converts the dataset into a matrix of token counts, which is the bag of words model. Each row is a review, and each column is a unique token in the entire dataset. The value represents the token count in the document."
   ]
  },
  {
   "cell_type": "code",
   "execution_count": 22,
   "id": "10c3f8ec-dd86-4039-8ed6-14f57d620b72",
   "metadata": {},
   "outputs": [],
   "source": [
    "train['review'] = train['review'].str.replace('&lt;.*?&gt;', ' ', regex=True)\n",
    "test['review'] = test['review'].str.replace('&lt;.*?&gt;', ' ', regex=True)\n",
    "\n",
    "vectorizer = CountVectorizer(\n",
    "    preprocessor=lambda x: x.lower(),  # Convert to lowercase\n",
    "    stop_words=stop_words,             # Remove stop words\n",
    "    ngram_range=(1, 4),               # Use 1- to 4-grams\n",
    "    min_df=0.001,                        # Minimum term frequency\n",
    "    max_df=0.5,                       # Maximum document frequency\n",
    "    token_pattern=r\"\\b[\\w+\\|']+\\b\" # Use word tokenizer\n",
    ")\n",
    "\n",
    "dtm_train = vectorizer.fit_transform(train['review'])"
   ]
  },
  {
   "cell_type": "markdown",
   "id": "33e21164-9a94-43b2-8dfe-62d04acefbea",
   "metadata": {},
   "source": [
    "For sentiment analysis, we will use LIME. "
   ]
  },
  {
   "cell_type": "code",
   "execution_count": 34,
   "id": "83efb18b-901b-45a6-ac4b-ad08ed529022",
   "metadata": {},
   "outputs": [],
   "source": [
    "random.seed(42)\n",
    "\n",
    "positive_reviews = test[test_y['sentiment'] == 1].sample(5, random_state=42)\n",
    "negative_reviews = test[test_y['sentiment'] == 0].sample(5, random_state=42)\n",
    "selected_reviews = pd.concat([positive_reviews, negative_reviews])"
   ]
  },
  {
   "cell_type": "code",
   "execution_count": 38,
   "id": "c2c88185-8ddc-40ab-8e0d-c2d5d06072bd",
   "metadata": {},
   "outputs": [
    {
     "name": "stderr",
     "output_type": "stream",
     "text": [
      "/opt/anaconda3/lib/python3.12/site-packages/sklearn/base.py:493: UserWarning: X does not have valid feature names, but LogisticRegression was fitted with feature names\n",
      "  warnings.warn(\n"
     ]
    },
    {
     "ename": "ValueError",
     "evalue": "Expected 2D array, got 1D array instead:\narray=['Well, I fear that my review of this special won\\'t heed much different observation than the others before me, but I literally just watched it- during a PBS membership drive- and frankly I\\'m too excited NOT to say anything. To really appreciate the enigma that is Barbra Streisand, you have to look back before the movies. Before the Broadway phenomenon of the mid-60\\'s. When television was still a young medium, there was a form of entertainment very prominent on the air that is but a memory today: musical variety. Some musical shows were weekly series, but others were single, one-time specials, usually showcasing the special talent of the individual performer. This is where we get the raw, uninhibited first looks at Streisand. She had already been a guest performer on other variety shows including Garry Moore, Ed Sullivan, and scored a major coup in a one-time only tandem appearance with the woman who would pass her the baton of belter extraordinary: Judy Garland. In 1966, COLOR ME BARBRA introduced Barbra Streisand in color (hence the title), but copied the format of her first special a year earlier almost to the letter. In 3 distinct acts, we get an abstract Streisand (in an after-hours art museum looking at and sometimes becoming the works of art), a comic Streisand working an already adoring audience in a studio circus (populated with many fuzzy and furry animals), and best of all, a singing Streisand in mini-concert format just-- well, frankly, just doing it. <br /><br />It amazes me that she still had the film debut of FUNNY GIRL yet to come, as well as turns as songwriter, director, and political activist. Here, she is barely 24 years old, doing extraordinary things because, as she puts it in her own on-camera introduction, \\'we didn\\'t know we couldn\\'t, so we did.\\' The art museum sequence is shot in Philadelphia over one weekend immediately after the museum closed to the public on Saturday evening, and apparently done with only ONE color camera. Yet there are cuts, dissolves, and tracking shots galore, resulting in one rather spectacular peak moment-- the modern, slightly beatnik-flavored, \\\\Gotta Move.\\\\\" After getting lost amongst the modern abstracts, jazz-club bongos begin, with Streisand emerging in a psychedelic gown and glittering eye makeup, doing the catchy staccato tune with almost androgynous sex appeal. It is not until Act 3, believe it or not, that the moment is matched or bettered by another feat: in the concert sequence, in a white gown and pearl earrings, Streisand recites the torchy \\\\\"Any Place I Hang My Hat is Home,\\\\\" tearing into the final notes and revealing one of those climactic belts that makes you scream like a little girl even if you\\'re 44 years old...and a guy. Just plain old great television. Check it out.\"'\n ',    my     \\'         , but     - during a PBS  -   \\'   NOT   .     enigma    ,        .       -\\'.     a young ,   a           but a  today:  .      , but   , - ,         performer.    we   ,     .     a  performer       Moore,  ,   a    a -    with     pass      :  .  ,         (  ), but        a      .    , we     (  -         works  ), a comic        a   ( with many   furry ),    , a    -  -- , ,   . < />< />             yet  , as  as  as , ,   . ,     years ,    , as  puts     - , \\'we \\' know we \\',  we .\\'                      ,    with    .    , ,   shots ,       --  ,  -, \\\\ .\\\\\"       , -  begin, with    a      ,     tune with    .      ,    ,          :    ,  a white    ,  recites   \\\\\"       ,\\\\\" tearing      revealing           a little    \\'  years ... a .     .   .\"'\n 'Well, I fear that  review  this special won\\' heed  different observation  the others before me, but I literally just  it- during   membership drive- and frankly I\\'m too excited  to say anything.  really appreciate the  that is Barbra Streisand,   to  back before the movies. Before the Broadway phenomenon  the mid-60\\'s.    still  young medium,    form   very  on the air that is but  memory today: musical variety. Some musical   weekly series, but others  , one- specials, usually  the special   the individual performer. This is where we get the ,  first looks  Streisand. She  already been  guest performer on other variety  including Garry Moore, Ed Sullivan, and    coup   one- only tandem  with the woman who  pass her the baton   : Judy . In 1966, COLOR ME BARBRA introduced Barbra Streisand  color (hence the title), but copied the format  her first special  year earlier almost to the letter. In 3 distinct acts, we get an abstract Streisand ( an after-hours art  looking  and sometimes becoming the works  art),  comic Streisand  an already adoring audience   studio circus (populated with many fuzzy and furry animals), and   all,  singing Streisand  mini-concert format just-- well, frankly, just  it. <br /><br />It amazes me that  still  the film debut  FUNNY GIRL  to come, as well as turns as , director, and political activist. Here,  is barely 24 years old,   things because, as  puts it  her own on-camera introduction, \\'we didn\\' know we couldn\\', so we did.\\' The art  sequence is shot  Philadelphia over one  immediately after the  closed to the public on Saturday evening, and apparently done with only ONE color camera.   are , dissolves, and tracking  galore,   one  spectacular  moment-- the modern, slightly -flavored, \\\\Gotta Move.\\\\\" After getting  amongst the modern abstracts, jazz- bongos begin, with Streisand     gown and glittering eye makeup,  the catchy staccato tune with almost  sex . It is not   3, believe it or not, that the moment is matched or bettered  another feat:  the concert sequence,   white gown and pearl earrings, Streisand recites the  \\\\\"Any  I Hang My Hat is Home,\\\\\"  into the final notes and  one  those climactic  that makes  scream like   girl even if \\'re 44 years old...and  guy. Just plain old great . Check it .\"'\n ...\n ', I   my  of  special won\\' heed    than  others before ,  I literally   - during a PBS membership -   I\\'m    to  .     enigma   Barbra , you  to look  before  . Before  Broadway  of  mid-\\'. When   still a young ,   a  of      air    a memory : musical variety.  musical shows  weekly series,  others  single, -time specials,    special  of   . This   we get  , uninhibited first looks  . She  already  a    other variety shows including  ,  Sullivan,  scored a  coup in a -time      woman  would pass   baton of  extraordinary: Judy Garland. In , COLOR   introduced Barbra  in  (hence  ),     of  first special a year earlier almost to  letter. In   , we get an abstract  (in an - art museum looking   sometimes becoming  works of art), a    an already  audience in a  circus (populated     furry animals),  best of all, a singing  in mini-  -- , ,  doing . <br /><br /> amazes   she still   film debut of FUNNY  yet to come,    turns  songwriter, ,   activist. , she   24  , doing extraordinary  because,  she   in   -camera introduction, \\'we didn\\'  we \\',  we did.\\' The art museum    in Philadelphia       museum closed to  public   evening,  apparently done     camera. Yet  are cuts, dissolves,  tracking  ,  in  rather spectacular peak moment--  ,  -flavored, \\\\ Move.\\\\\" After getting lost    , jazz-club bongos begin,    in a  gown   eye , doing   staccato   almost  sex appeal.   not until Act , believe  or not,   moment   or   another feat: in   , in a  gown   earrings,  recites   \\\\\" Place I   Hat  Home,\\\\\"    final notes  revealing  of  climactic   makes you   a   even  you\\' 44  ... a guy.  plain  great .   out.\"'\n ',         \\'         ,      -     -   \\'      .         ,        .       -\\'.      young ,                 :  .      ,    , -time ,         performer.       ,     .       performer       ,  Sullivan,        -time               :  .  ,         (  ),               .    ,      (  -           ),             (      ),    ,     -  -- , ,   . < />< />               ,      , ,   . ,      ,    ,        - , \\' \\'   \\',   .\\'                      ,        .    , ,    ,       --  ,  -, \\\\ .\\\\\"       , -  ,           ,          .      ,    ,          :    ,       ,     \\\\\"       ,\\\\\"       revealing                \\'   ...  .     .   .\"'\n 'Well, I  that my review of  special \\'t heed    than the others before me, but I literally just watched - during a PBS membership drive-   I\\' too   to  . To really appreciate the enigma that is  Streisand,  have to look  before the movies.  the Broadway phenomenon of the -\\'s. When  was still a young medium, there was a form of entertainment very prominent  the  that is but a memory today:  variety. Some  shows were  , but others were single, -time , usually  the special  of the individual . This is where  get the ,  first  at Streisand.  had already been a guest    variety shows including  Moore,  Sullivan,  scored a major coup in a -time only tandem   the woman who would pass  the  of belter :  Garland.  1966, COLOR ME  introduced  Streisand in color (hence the title), but copied the  of  first special a    to the letter.  3  ,  get  abstract Streisand (in  -hours  museum  at    the works of ), a comic Streisand working  already adoring  in a studio circus (   fuzzy  furry ),  best of all, a singing Streisand in mini-concert  just-- well, , just doing . <br /><br />It amazes me that she still had the film debut of FUNNY GIRL  to come, as well as turns as , director,  political . , she is barely 24  , doing   because, as she puts  in  own - , \\' didn\\'t   \\'t,   .\\' The  museum sequence is shot in Philadelphia over  weekend   the museum  to the    evening,  apparently done  only  color . Yet there are cuts, dissolves,  tracking  ,  in  rather spectacular peak -- the modern,  -flavored, \\\\Gotta Move.\\\\\"  getting lost amongst the modern abstracts, -club bongos ,  Streisand  in a psychedelic   glittering eye makeup, doing the catchy  tune   androgynous  . It is not   3, believe   not, that the  is matched   by  feat: in the concert sequence, in a white   pearl , Streisand recites the torchy \\\\\"Any  I    is Home,\\\\\" tearing into the final notes    of   belts that   scream  a little girl even  \\' 44  ... a guy.  plain  great . Check  out.\"'].\nReshape your data either using array.reshape(-1, 1) if your data has a single feature or array.reshape(1, -1) if it contains a single sample.",
     "output_type": "error",
     "traceback": [
      "\u001b[0;31m---------------------------------------------------------------------------\u001b[0m",
      "\u001b[0;31mValueError\u001b[0m                                Traceback (most recent call last)",
      "Cell \u001b[0;32mIn[38], line 10\u001b[0m\n\u001b[1;32m      7\u001b[0m     explanation\u001b[38;5;241m.\u001b[39mshow_in_notebook(text\u001b[38;5;241m=\u001b[39m\u001b[38;5;28;01mTrue\u001b[39;00m)\n\u001b[1;32m      9\u001b[0m \u001b[38;5;28;01mfor\u001b[39;00m i, row \u001b[38;5;129;01min\u001b[39;00m selected_reviews\u001b[38;5;241m.\u001b[39miterrows():\n\u001b[0;32m---> 10\u001b[0m     explain_review(row[\u001b[38;5;124m'\u001b[39m\u001b[38;5;124mreview\u001b[39m\u001b[38;5;124m'\u001b[39m])\n",
      "Cell \u001b[0;32mIn[38], line 5\u001b[0m, in \u001b[0;36mexplain_review\u001b[0;34m(review_text)\u001b[0m\n\u001b[1;32m      3\u001b[0m \u001b[38;5;28;01mdef\u001b[39;00m \u001b[38;5;21mexplain_review\u001b[39m(review_text):\n\u001b[1;32m      4\u001b[0m     \u001b[38;5;66;03m#print(review_text)\u001b[39;00m\n\u001b[0;32m----> 5\u001b[0m     explanation \u001b[38;5;241m=\u001b[39m explainer\u001b[38;5;241m.\u001b[39mexplain_instance(review_text, log_reg\u001b[38;5;241m.\u001b[39mpredict_proba)\n\u001b[1;32m      7\u001b[0m     explanation\u001b[38;5;241m.\u001b[39mshow_in_notebook(text\u001b[38;5;241m=\u001b[39m\u001b[38;5;28;01mTrue\u001b[39;00m)\n",
      "File \u001b[0;32m/opt/anaconda3/lib/python3.12/site-packages/lime/lime_text.py:413\u001b[0m, in \u001b[0;36mLimeTextExplainer.explain_instance\u001b[0;34m(self, text_instance, classifier_fn, labels, top_labels, num_features, num_samples, distance_metric, model_regressor)\u001b[0m\n\u001b[1;32m    406\u001b[0m indexed_string \u001b[38;5;241m=\u001b[39m (IndexedCharacters(\n\u001b[1;32m    407\u001b[0m     text_instance, bow\u001b[38;5;241m=\u001b[39m\u001b[38;5;28mself\u001b[39m\u001b[38;5;241m.\u001b[39mbow, mask_string\u001b[38;5;241m=\u001b[39m\u001b[38;5;28mself\u001b[39m\u001b[38;5;241m.\u001b[39mmask_string)\n\u001b[1;32m    408\u001b[0m                   \u001b[38;5;28;01mif\u001b[39;00m \u001b[38;5;28mself\u001b[39m\u001b[38;5;241m.\u001b[39mchar_level \u001b[38;5;28;01melse\u001b[39;00m\n\u001b[1;32m    409\u001b[0m                   IndexedString(text_instance, bow\u001b[38;5;241m=\u001b[39m\u001b[38;5;28mself\u001b[39m\u001b[38;5;241m.\u001b[39mbow,\n\u001b[1;32m    410\u001b[0m                                 split_expression\u001b[38;5;241m=\u001b[39m\u001b[38;5;28mself\u001b[39m\u001b[38;5;241m.\u001b[39msplit_expression,\n\u001b[1;32m    411\u001b[0m                                 mask_string\u001b[38;5;241m=\u001b[39m\u001b[38;5;28mself\u001b[39m\u001b[38;5;241m.\u001b[39mmask_string))\n\u001b[1;32m    412\u001b[0m domain_mapper \u001b[38;5;241m=\u001b[39m TextDomainMapper(indexed_string)\n\u001b[0;32m--> 413\u001b[0m data, yss, distances \u001b[38;5;241m=\u001b[39m \u001b[38;5;28mself\u001b[39m\u001b[38;5;241m.\u001b[39m__data_labels_distances(\n\u001b[1;32m    414\u001b[0m     indexed_string, classifier_fn, num_samples,\n\u001b[1;32m    415\u001b[0m     distance_metric\u001b[38;5;241m=\u001b[39mdistance_metric)\n\u001b[1;32m    416\u001b[0m \u001b[38;5;28;01mif\u001b[39;00m \u001b[38;5;28mself\u001b[39m\u001b[38;5;241m.\u001b[39mclass_names \u001b[38;5;129;01mis\u001b[39;00m \u001b[38;5;28;01mNone\u001b[39;00m:\n\u001b[1;32m    417\u001b[0m     \u001b[38;5;28mself\u001b[39m\u001b[38;5;241m.\u001b[39mclass_names \u001b[38;5;241m=\u001b[39m [\u001b[38;5;28mstr\u001b[39m(x) \u001b[38;5;28;01mfor\u001b[39;00m x \u001b[38;5;129;01min\u001b[39;00m \u001b[38;5;28mrange\u001b[39m(yss[\u001b[38;5;241m0\u001b[39m]\u001b[38;5;241m.\u001b[39mshape[\u001b[38;5;241m0\u001b[39m])]\n",
      "File \u001b[0;32m/opt/anaconda3/lib/python3.12/site-packages/lime/lime_text.py:482\u001b[0m, in \u001b[0;36mLimeTextExplainer.__data_labels_distances\u001b[0;34m(self, indexed_string, classifier_fn, num_samples, distance_metric)\u001b[0m\n\u001b[1;32m    480\u001b[0m     data[i, inactive] \u001b[38;5;241m=\u001b[39m \u001b[38;5;241m0\u001b[39m\n\u001b[1;32m    481\u001b[0m     inverse_data\u001b[38;5;241m.\u001b[39mappend(indexed_string\u001b[38;5;241m.\u001b[39minverse_removing(inactive))\n\u001b[0;32m--> 482\u001b[0m labels \u001b[38;5;241m=\u001b[39m classifier_fn(inverse_data)\n\u001b[1;32m    483\u001b[0m distances \u001b[38;5;241m=\u001b[39m distance_fn(sp\u001b[38;5;241m.\u001b[39msparse\u001b[38;5;241m.\u001b[39mcsr_matrix(data))\n\u001b[1;32m    484\u001b[0m \u001b[38;5;28;01mreturn\u001b[39;00m data, labels, distances\n",
      "File \u001b[0;32m/opt/anaconda3/lib/python3.12/site-packages/sklearn/linear_model/_logistic.py:1377\u001b[0m, in \u001b[0;36mLogisticRegression.predict_proba\u001b[0;34m(self, X)\u001b[0m\n\u001b[1;32m   1369\u001b[0m ovr \u001b[38;5;241m=\u001b[39m \u001b[38;5;28mself\u001b[39m\u001b[38;5;241m.\u001b[39mmulti_class \u001b[38;5;129;01min\u001b[39;00m [\u001b[38;5;124m\"\u001b[39m\u001b[38;5;124movr\u001b[39m\u001b[38;5;124m\"\u001b[39m, \u001b[38;5;124m\"\u001b[39m\u001b[38;5;124mwarn\u001b[39m\u001b[38;5;124m\"\u001b[39m] \u001b[38;5;129;01mor\u001b[39;00m (\n\u001b[1;32m   1370\u001b[0m     \u001b[38;5;28mself\u001b[39m\u001b[38;5;241m.\u001b[39mmulti_class \u001b[38;5;241m==\u001b[39m \u001b[38;5;124m\"\u001b[39m\u001b[38;5;124mauto\u001b[39m\u001b[38;5;124m\"\u001b[39m\n\u001b[1;32m   1371\u001b[0m     \u001b[38;5;129;01mand\u001b[39;00m (\n\u001b[0;32m   (...)\u001b[0m\n\u001b[1;32m   1374\u001b[0m     )\n\u001b[1;32m   1375\u001b[0m )\n\u001b[1;32m   1376\u001b[0m \u001b[38;5;28;01mif\u001b[39;00m ovr:\n\u001b[0;32m-> 1377\u001b[0m     \u001b[38;5;28;01mreturn\u001b[39;00m \u001b[38;5;28msuper\u001b[39m()\u001b[38;5;241m.\u001b[39m_predict_proba_lr(X)\n\u001b[1;32m   1378\u001b[0m \u001b[38;5;28;01melse\u001b[39;00m:\n\u001b[1;32m   1379\u001b[0m     decision \u001b[38;5;241m=\u001b[39m \u001b[38;5;28mself\u001b[39m\u001b[38;5;241m.\u001b[39mdecision_function(X)\n",
      "File \u001b[0;32m/opt/anaconda3/lib/python3.12/site-packages/sklearn/linear_model/_base.py:366\u001b[0m, in \u001b[0;36mLinearClassifierMixin._predict_proba_lr\u001b[0;34m(self, X)\u001b[0m\n\u001b[1;32m    359\u001b[0m \u001b[38;5;28;01mdef\u001b[39;00m \u001b[38;5;21m_predict_proba_lr\u001b[39m(\u001b[38;5;28mself\u001b[39m, X):\n\u001b[1;32m    360\u001b[0m \u001b[38;5;250m    \u001b[39m\u001b[38;5;124;03m\"\"\"Probability estimation for OvR logistic regression.\u001b[39;00m\n\u001b[1;32m    361\u001b[0m \n\u001b[1;32m    362\u001b[0m \u001b[38;5;124;03m    Positive class probabilities are computed as\u001b[39;00m\n\u001b[1;32m    363\u001b[0m \u001b[38;5;124;03m    1. / (1. + np.exp(-self.decision_function(X)));\u001b[39;00m\n\u001b[1;32m    364\u001b[0m \u001b[38;5;124;03m    multiclass is handled by normalizing that over all classes.\u001b[39;00m\n\u001b[1;32m    365\u001b[0m \u001b[38;5;124;03m    \"\"\"\u001b[39;00m\n\u001b[0;32m--> 366\u001b[0m     prob \u001b[38;5;241m=\u001b[39m \u001b[38;5;28mself\u001b[39m\u001b[38;5;241m.\u001b[39mdecision_function(X)\n\u001b[1;32m    367\u001b[0m     expit(prob, out\u001b[38;5;241m=\u001b[39mprob)\n\u001b[1;32m    368\u001b[0m     \u001b[38;5;28;01mif\u001b[39;00m prob\u001b[38;5;241m.\u001b[39mndim \u001b[38;5;241m==\u001b[39m \u001b[38;5;241m1\u001b[39m:\n",
      "File \u001b[0;32m/opt/anaconda3/lib/python3.12/site-packages/sklearn/linear_model/_base.py:332\u001b[0m, in \u001b[0;36mLinearClassifierMixin.decision_function\u001b[0;34m(self, X)\u001b[0m\n\u001b[1;32m    329\u001b[0m check_is_fitted(\u001b[38;5;28mself\u001b[39m)\n\u001b[1;32m    330\u001b[0m xp, _ \u001b[38;5;241m=\u001b[39m get_namespace(X)\n\u001b[0;32m--> 332\u001b[0m X \u001b[38;5;241m=\u001b[39m \u001b[38;5;28mself\u001b[39m\u001b[38;5;241m.\u001b[39m_validate_data(X, accept_sparse\u001b[38;5;241m=\u001b[39m\u001b[38;5;124m\"\u001b[39m\u001b[38;5;124mcsr\u001b[39m\u001b[38;5;124m\"\u001b[39m, reset\u001b[38;5;241m=\u001b[39m\u001b[38;5;28;01mFalse\u001b[39;00m)\n\u001b[1;32m    333\u001b[0m scores \u001b[38;5;241m=\u001b[39m safe_sparse_dot(X, \u001b[38;5;28mself\u001b[39m\u001b[38;5;241m.\u001b[39mcoef_\u001b[38;5;241m.\u001b[39mT, dense_output\u001b[38;5;241m=\u001b[39m\u001b[38;5;28;01mTrue\u001b[39;00m) \u001b[38;5;241m+\u001b[39m \u001b[38;5;28mself\u001b[39m\u001b[38;5;241m.\u001b[39mintercept_\n\u001b[1;32m    334\u001b[0m \u001b[38;5;28;01mreturn\u001b[39;00m xp\u001b[38;5;241m.\u001b[39mreshape(scores, (\u001b[38;5;241m-\u001b[39m\u001b[38;5;241m1\u001b[39m,)) \u001b[38;5;28;01mif\u001b[39;00m scores\u001b[38;5;241m.\u001b[39mshape[\u001b[38;5;241m1\u001b[39m] \u001b[38;5;241m==\u001b[39m \u001b[38;5;241m1\u001b[39m \u001b[38;5;28;01melse\u001b[39;00m scores\n",
      "File \u001b[0;32m/opt/anaconda3/lib/python3.12/site-packages/sklearn/base.py:633\u001b[0m, in \u001b[0;36mBaseEstimator._validate_data\u001b[0;34m(self, X, y, reset, validate_separately, cast_to_ndarray, **check_params)\u001b[0m\n\u001b[1;32m    631\u001b[0m         out \u001b[38;5;241m=\u001b[39m X, y\n\u001b[1;32m    632\u001b[0m \u001b[38;5;28;01melif\u001b[39;00m \u001b[38;5;129;01mnot\u001b[39;00m no_val_X \u001b[38;5;129;01mand\u001b[39;00m no_val_y:\n\u001b[0;32m--> 633\u001b[0m     out \u001b[38;5;241m=\u001b[39m check_array(X, input_name\u001b[38;5;241m=\u001b[39m\u001b[38;5;124m\"\u001b[39m\u001b[38;5;124mX\u001b[39m\u001b[38;5;124m\"\u001b[39m, \u001b[38;5;241m*\u001b[39m\u001b[38;5;241m*\u001b[39mcheck_params)\n\u001b[1;32m    634\u001b[0m \u001b[38;5;28;01melif\u001b[39;00m no_val_X \u001b[38;5;129;01mand\u001b[39;00m \u001b[38;5;129;01mnot\u001b[39;00m no_val_y:\n\u001b[1;32m    635\u001b[0m     out \u001b[38;5;241m=\u001b[39m _check_y(y, \u001b[38;5;241m*\u001b[39m\u001b[38;5;241m*\u001b[39mcheck_params)\n",
      "File \u001b[0;32m/opt/anaconda3/lib/python3.12/site-packages/sklearn/utils/validation.py:1035\u001b[0m, in \u001b[0;36mcheck_array\u001b[0;34m(array, accept_sparse, accept_large_sparse, dtype, order, copy, force_all_finite, ensure_2d, allow_nd, ensure_min_samples, ensure_min_features, estimator, input_name)\u001b[0m\n\u001b[1;32m   1028\u001b[0m         \u001b[38;5;28;01melse\u001b[39;00m:\n\u001b[1;32m   1029\u001b[0m             msg \u001b[38;5;241m=\u001b[39m (\n\u001b[1;32m   1030\u001b[0m                 \u001b[38;5;124mf\u001b[39m\u001b[38;5;124m\"\u001b[39m\u001b[38;5;124mExpected 2D array, got 1D array instead:\u001b[39m\u001b[38;5;130;01m\\n\u001b[39;00m\u001b[38;5;124marray=\u001b[39m\u001b[38;5;132;01m{\u001b[39;00marray\u001b[38;5;132;01m}\u001b[39;00m\u001b[38;5;124m.\u001b[39m\u001b[38;5;130;01m\\n\u001b[39;00m\u001b[38;5;124m\"\u001b[39m\n\u001b[1;32m   1031\u001b[0m                 \u001b[38;5;124m\"\u001b[39m\u001b[38;5;124mReshape your data either using array.reshape(-1, 1) if \u001b[39m\u001b[38;5;124m\"\u001b[39m\n\u001b[1;32m   1032\u001b[0m                 \u001b[38;5;124m\"\u001b[39m\u001b[38;5;124myour data has a single feature or array.reshape(1, -1) \u001b[39m\u001b[38;5;124m\"\u001b[39m\n\u001b[1;32m   1033\u001b[0m                 \u001b[38;5;124m\"\u001b[39m\u001b[38;5;124mif it contains a single sample.\u001b[39m\u001b[38;5;124m\"\u001b[39m\n\u001b[1;32m   1034\u001b[0m             )\n\u001b[0;32m-> 1035\u001b[0m         \u001b[38;5;28;01mraise\u001b[39;00m \u001b[38;5;167;01mValueError\u001b[39;00m(msg)\n\u001b[1;32m   1037\u001b[0m \u001b[38;5;28;01mif\u001b[39;00m dtype_numeric \u001b[38;5;129;01mand\u001b[39;00m \u001b[38;5;28mhasattr\u001b[39m(array\u001b[38;5;241m.\u001b[39mdtype, \u001b[38;5;124m\"\u001b[39m\u001b[38;5;124mkind\u001b[39m\u001b[38;5;124m\"\u001b[39m) \u001b[38;5;129;01mand\u001b[39;00m array\u001b[38;5;241m.\u001b[39mdtype\u001b[38;5;241m.\u001b[39mkind \u001b[38;5;129;01min\u001b[39;00m \u001b[38;5;124m\"\u001b[39m\u001b[38;5;124mUSV\u001b[39m\u001b[38;5;124m\"\u001b[39m:\n\u001b[1;32m   1038\u001b[0m     \u001b[38;5;28;01mraise\u001b[39;00m \u001b[38;5;167;01mValueError\u001b[39;00m(\n\u001b[1;32m   1039\u001b[0m         \u001b[38;5;124m\"\u001b[39m\u001b[38;5;124mdtype=\u001b[39m\u001b[38;5;124m'\u001b[39m\u001b[38;5;124mnumeric\u001b[39m\u001b[38;5;124m'\u001b[39m\u001b[38;5;124m is not compatible with arrays of bytes/strings.\u001b[39m\u001b[38;5;124m\"\u001b[39m\n\u001b[1;32m   1040\u001b[0m         \u001b[38;5;124m\"\u001b[39m\u001b[38;5;124mConvert your data to numeric values explicitly instead.\u001b[39m\u001b[38;5;124m\"\u001b[39m\n\u001b[1;32m   1041\u001b[0m     )\n",
      "\u001b[0;31mValueError\u001b[0m: Expected 2D array, got 1D array instead:\narray=['Well, I fear that my review of this special won\\'t heed much different observation than the others before me, but I literally just watched it- during a PBS membership drive- and frankly I\\'m too excited NOT to say anything. To really appreciate the enigma that is Barbra Streisand, you have to look back before the movies. Before the Broadway phenomenon of the mid-60\\'s. When television was still a young medium, there was a form of entertainment very prominent on the air that is but a memory today: musical variety. Some musical shows were weekly series, but others were single, one-time specials, usually showcasing the special talent of the individual performer. This is where we get the raw, uninhibited first looks at Streisand. She had already been a guest performer on other variety shows including Garry Moore, Ed Sullivan, and scored a major coup in a one-time only tandem appearance with the woman who would pass her the baton of belter extraordinary: Judy Garland. In 1966, COLOR ME BARBRA introduced Barbra Streisand in color (hence the title), but copied the format of her first special a year earlier almost to the letter. In 3 distinct acts, we get an abstract Streisand (in an after-hours art museum looking at and sometimes becoming the works of art), a comic Streisand working an already adoring audience in a studio circus (populated with many fuzzy and furry animals), and best of all, a singing Streisand in mini-concert format just-- well, frankly, just doing it. <br /><br />It amazes me that she still had the film debut of FUNNY GIRL yet to come, as well as turns as songwriter, director, and political activist. Here, she is barely 24 years old, doing extraordinary things because, as she puts it in her own on-camera introduction, \\'we didn\\'t know we couldn\\'t, so we did.\\' The art museum sequence is shot in Philadelphia over one weekend immediately after the museum closed to the public on Saturday evening, and apparently done with only ONE color camera. Yet there are cuts, dissolves, and tracking shots galore, resulting in one rather spectacular peak moment-- the modern, slightly beatnik-flavored, \\\\Gotta Move.\\\\\" After getting lost amongst the modern abstracts, jazz-club bongos begin, with Streisand emerging in a psychedelic gown and glittering eye makeup, doing the catchy staccato tune with almost androgynous sex appeal. It is not until Act 3, believe it or not, that the moment is matched or bettered by another feat: in the concert sequence, in a white gown and pearl earrings, Streisand recites the torchy \\\\\"Any Place I Hang My Hat is Home,\\\\\" tearing into the final notes and revealing one of those climactic belts that makes you scream like a little girl even if you\\'re 44 years old...and a guy. Just plain old great television. Check it out.\"'\n ',    my     \\'         , but     - during a PBS  -   \\'   NOT   .     enigma    ,        .       -\\'.     a young ,   a           but a  today:  .      , but   , - ,         performer.    we   ,     .     a  performer       Moore,  ,   a    a -    with     pass      :  .  ,         (  ), but        a      .    , we     (  -         works  ), a comic        a   ( with many   furry ),    , a    -  -- , ,   . < />< />             yet  , as  as  as , ,   . ,     years ,    , as  puts     - , \\'we \\' know we \\',  we .\\'                      ,    with    .    , ,   shots ,       --  ,  -, \\\\ .\\\\\"       , -  begin, with    a      ,     tune with    .      ,    ,          :    ,  a white    ,  recites   \\\\\"       ,\\\\\" tearing      revealing           a little    \\'  years ... a .     .   .\"'\n 'Well, I fear that  review  this special won\\' heed  different observation  the others before me, but I literally just  it- during   membership drive- and frankly I\\'m too excited  to say anything.  really appreciate the  that is Barbra Streisand,   to  back before the movies. Before the Broadway phenomenon  the mid-60\\'s.    still  young medium,    form   very  on the air that is but  memory today: musical variety. Some musical   weekly series, but others  , one- specials, usually  the special   the individual performer. This is where we get the ,  first looks  Streisand. She  already been  guest performer on other variety  including Garry Moore, Ed Sullivan, and    coup   one- only tandem  with the woman who  pass her the baton   : Judy . In 1966, COLOR ME BARBRA introduced Barbra Streisand  color (hence the title), but copied the format  her first special  year earlier almost to the letter. In 3 distinct acts, we get an abstract Streisand ( an after-hours art  looking  and sometimes becoming the works  art),  comic Streisand  an already adoring audience   studio circus (populated with many fuzzy and furry animals), and   all,  singing Streisand  mini-concert format just-- well, frankly, just  it. <br /><br />It amazes me that  still  the film debut  FUNNY GIRL  to come, as well as turns as , director, and political activist. Here,  is barely 24 years old,   things because, as  puts it  her own on-camera introduction, \\'we didn\\' know we couldn\\', so we did.\\' The art  sequence is shot  Philadelphia over one  immediately after the  closed to the public on Saturday evening, and apparently done with only ONE color camera.   are , dissolves, and tracking  galore,   one  spectacular  moment-- the modern, slightly -flavored, \\\\Gotta Move.\\\\\" After getting  amongst the modern abstracts, jazz- bongos begin, with Streisand     gown and glittering eye makeup,  the catchy staccato tune with almost  sex . It is not   3, believe it or not, that the moment is matched or bettered  another feat:  the concert sequence,   white gown and pearl earrings, Streisand recites the  \\\\\"Any  I Hang My Hat is Home,\\\\\"  into the final notes and  one  those climactic  that makes  scream like   girl even if \\'re 44 years old...and  guy. Just plain old great . Check it .\"'\n ...\n ', I   my  of  special won\\' heed    than  others before ,  I literally   - during a PBS membership -   I\\'m    to  .     enigma   Barbra , you  to look  before  . Before  Broadway  of  mid-\\'. When   still a young ,   a  of      air    a memory : musical variety.  musical shows  weekly series,  others  single, -time specials,    special  of   . This   we get  , uninhibited first looks  . She  already  a    other variety shows including  ,  Sullivan,  scored a  coup in a -time      woman  would pass   baton of  extraordinary: Judy Garland. In , COLOR   introduced Barbra  in  (hence  ),     of  first special a year earlier almost to  letter. In   , we get an abstract  (in an - art museum looking   sometimes becoming  works of art), a    an already  audience in a  circus (populated     furry animals),  best of all, a singing  in mini-  -- , ,  doing . <br /><br /> amazes   she still   film debut of FUNNY  yet to come,    turns  songwriter, ,   activist. , she   24  , doing extraordinary  because,  she   in   -camera introduction, \\'we didn\\'  we \\',  we did.\\' The art museum    in Philadelphia       museum closed to  public   evening,  apparently done     camera. Yet  are cuts, dissolves,  tracking  ,  in  rather spectacular peak moment--  ,  -flavored, \\\\ Move.\\\\\" After getting lost    , jazz-club bongos begin,    in a  gown   eye , doing   staccato   almost  sex appeal.   not until Act , believe  or not,   moment   or   another feat: in   , in a  gown   earrings,  recites   \\\\\" Place I   Hat  Home,\\\\\"    final notes  revealing  of  climactic   makes you   a   even  you\\' 44  ... a guy.  plain  great .   out.\"'\n ',         \\'         ,      -     -   \\'      .         ,        .       -\\'.      young ,                 :  .      ,    , -time ,         performer.       ,     .       performer       ,  Sullivan,        -time               :  .  ,         (  ),               .    ,      (  -           ),             (      ),    ,     -  -- , ,   . < />< />               ,      , ,   . ,      ,    ,        - , \\' \\'   \\',   .\\'                      ,        .    , ,    ,       --  ,  -, \\\\ .\\\\\"       , -  ,           ,          .      ,    ,          :    ,       ,     \\\\\"       ,\\\\\"       revealing                \\'   ...  .     .   .\"'\n 'Well, I  that my review of  special \\'t heed    than the others before me, but I literally just watched - during a PBS membership drive-   I\\' too   to  . To really appreciate the enigma that is  Streisand,  have to look  before the movies.  the Broadway phenomenon of the -\\'s. When  was still a young medium, there was a form of entertainment very prominent  the  that is but a memory today:  variety. Some  shows were  , but others were single, -time , usually  the special  of the individual . This is where  get the ,  first  at Streisand.  had already been a guest    variety shows including  Moore,  Sullivan,  scored a major coup in a -time only tandem   the woman who would pass  the  of belter :  Garland.  1966, COLOR ME  introduced  Streisand in color (hence the title), but copied the  of  first special a    to the letter.  3  ,  get  abstract Streisand (in  -hours  museum  at    the works of ), a comic Streisand working  already adoring  in a studio circus (   fuzzy  furry ),  best of all, a singing Streisand in mini-concert  just-- well, , just doing . <br /><br />It amazes me that she still had the film debut of FUNNY GIRL  to come, as well as turns as , director,  political . , she is barely 24  , doing   because, as she puts  in  own - , \\' didn\\'t   \\'t,   .\\' The  museum sequence is shot in Philadelphia over  weekend   the museum  to the    evening,  apparently done  only  color . Yet there are cuts, dissolves,  tracking  ,  in  rather spectacular peak -- the modern,  -flavored, \\\\Gotta Move.\\\\\"  getting lost amongst the modern abstracts, -club bongos ,  Streisand  in a psychedelic   glittering eye makeup, doing the catchy  tune   androgynous  . It is not   3, believe   not, that the  is matched   by  feat: in the concert sequence, in a white   pearl , Streisand recites the torchy \\\\\"Any  I    is Home,\\\\\" tearing into the final notes    of   belts that   scream  a little girl even  \\' 44  ... a guy.  plain  great . Check  out.\"'].\nReshape your data either using array.reshape(-1, 1) if your data has a single feature or array.reshape(1, -1) if it contains a single sample."
     ]
    }
   ],
   "source": [
    "explainer = LimeTextExplainer(class_names=['Negative', 'Positive'])\n",
    "\n",
    "def explain_review(review_text):\n",
    "    #print(review_text)\n",
    "    explanation = explainer.explain_instance(review_text, log_reg.predict_proba)\n",
    "    \n",
    "    explanation.show_in_notebook(text=True)\n",
    "\n",
    "for i, row in selected_reviews.iterrows():\n",
    "    explain_review(row['review'])\n"
   ]
  },
  {
   "cell_type": "code",
   "execution_count": 27,
   "id": "eae16ee8-ee93-4213-82e5-33f476eafd4d",
   "metadata": {},
   "outputs": [
    {
     "name": "stdout",
     "output_type": "stream",
     "text": [
      "Lasso Coefficients: -0.2245395020328098\n"
     ]
    },
    {
     "data": {
      "text/plain": [
       "1206"
      ]
     },
     "execution_count": 27,
     "metadata": {},
     "output_type": "execute_result"
    }
   ],
   "source": [
    "scaler = StandardScaler(with_mean=False)\n",
    "X_train_scaled = scaler.fit_transform(dtm_train)\n",
    "\n",
    "lasso_model = Lasso(alpha=0.00623)\n",
    "\n",
    "lasso_model.fit(X_train_scaled, train['sentiment'])\n",
    "\n",
    "# Get the coefficients\n",
    "lasso_coefs = lasso_model.coef_\n",
    "print('Lasso Coefficients:', lasso_coefs.sum())\n",
    "\n",
    "# Create a DataFrame with feature names and their coefficients\n",
    "feature_coef_df = pd.DataFrame(\n",
    "    {'Feature': np.array(vectorizer.get_feature_names_out()),\n",
    "     'Coefficient': lasso_coefs})\n",
    "\n",
    "selected_features = feature_coef_df[feature_coef_df['Coefficient'] != 0]\n",
    "vocabulary = list(selected_features['Feature'].values)\n",
    "\n",
    "with open('./myvocab.txt', 'w') as file:\n",
    "    # Iterate through the list and write each word to a new line\n",
    "    for word in vocabulary:\n",
    "        file.write(word + \"\\n\")\n",
    "\n",
    "len(selected_features)"
   ]
  },
  {
   "cell_type": "markdown",
   "id": "92a82ab3-3ac4-432f-8c23-daf43a050338",
   "metadata": {},
   "source": [
    "Setting a seed for consistency in random selection."
   ]
  },
  {
   "cell_type": "code",
   "execution_count": null,
   "id": "68f597ae-6ac5-44ad-9918-f078d921700d",
   "metadata": {},
   "outputs": [],
   "source": [
    "random.seed(42)"
   ]
  },
  {
   "cell_type": "code",
   "execution_count": null,
   "id": "96977890-2fa1-4fd6-b4ec-6d8544e43773",
   "metadata": {},
   "outputs": [],
   "source": [
    "myvocab = open(\"myvocab.txt\", \"r\").read().splitlines()\n",
    "tfidf_vectorizer = TfidfVectorizer(vocabulary=myvocab, ngram_range=(1, 4))\n",
    "dtm_test = tfidf_vectorizer.fit_transform(dtm_train['review'])\n",
    "# log_reg.fit(dtm_test, test_y['sentiment'])\n",
    "# print(myvocab)\n",
    "# print(test_y)\n",
    "# print(dtm_test)\n",
    "\n",
    "# Need to set a seed before selecting samples\n",
    "\n",
    "positive_reviews = test[test_y['sentiment'] == 1].sample(5, random_state=42)\n",
    "negative_reviews = test[test_y['sentiment'] == 0].sample(5, random_state=42)\n",
    "selected_reviews = pd.concat([positive_reviews, negative_reviews])\n",
    "\n",
    "explainer = LimeTextExplainer(class_names=['Negative', 'Positive'])\n",
    "\n",
    "def explain_review(review_text):\n",
    "    print(review_text)\n",
    "    explanation = explainer.explain_instance(review_text, log_reg.predict_proba, num_features=10)\n",
    "    \n",
    "    explanation.show_in_notebook(text=True)\n",
    "\n",
    "for i, row in selected_reviews.iterrows():\n",
    "    explain_review(row['review'])\n",
    "    \n"
   ]
  }
 ],
 "metadata": {
  "kernelspec": {
   "display_name": "Python 3 (ipykernel)",
   "language": "python",
   "name": "python3"
  },
  "language_info": {
   "codemirror_mode": {
    "name": "ipython",
    "version": 3
   },
   "file_extension": ".py",
   "mimetype": "text/x-python",
   "name": "python",
   "nbconvert_exporter": "python",
   "pygments_lexer": "ipython3",
   "version": "3.12.4"
  }
 },
 "nbformat": 4,
 "nbformat_minor": 5
}
